{
 "cells": [
  {
   "cell_type": "code",
   "execution_count": 2,
   "id": "d7a42549",
   "metadata": {},
   "outputs": [],
   "source": [
    "import glob\n",
    "from pathlib import Path\n",
    "import os\n",
    "import pandas as pd\n",
    "import plotly.express as px\n",
    "import plotly.graph_objects as go"
   ]
  },
  {
   "cell_type": "code",
   "execution_count": 3,
   "id": "7d9b204f",
   "metadata": {},
   "outputs": [],
   "source": [
    "PATH = \"../data/\"\n",
    "\n",
    "file_paths = glob.glob(os.path.join(PATH , \"*.csv\"))\n",
    "\n",
    "# Load datasets\n",
    "# File basename with dataframes\n",
    "dfs = {}\n",
    "\n",
    "for file_path in file_paths:\n",
    "    dfs[Path(file_path).stem] = pd.read_csv(file_path)\n",
    "\n",
    "sorted(list(dfs.keys()))\n",
    "\n",
    "# Remove pandas warning\n",
    "import warnings\n",
    "warnings.simplefilter(action=\"ignore\", category=DeprecationWarning)"
   ]
  },
  {
   "cell_type": "markdown",
   "id": "fbb59481",
   "metadata": {},
   "source": [
    "Information about the datasets can be found here: [CSV File Data Dictionary · synthetichealth/synthea Wiki](https://github.com/synthetichealth/synthea/wiki/CSV-File-Data-Dictionary)\n",
    "\n",
    "Notes: supplies dataset is empty"
   ]
  },
  {
   "cell_type": "markdown",
   "id": "f5d9f410",
   "metadata": {},
   "source": [
    "### Finding similar patterns among patients who have three most common conditions\n",
    "\n",
    "Note: I don't have a background in health care, so there could be wrong\n",
    "statements in this notebook"
   ]
  },
  {
   "cell_type": "code",
   "execution_count": 11,
   "id": "058ed0c0",
   "metadata": {},
   "outputs": [
    {
     "data": {
      "application/vnd.plotly.v1+json": {
       "config": {
        "plotlyServerURL": "https://plot.ly"
       },
       "data": [
        {
         "alignmentgroup": "True",
         "bingroup": "y",
         "histfunc": "sum",
         "hovertemplate": "sum of count=%{x}<br>DESCRIPTION=%{y}<extra></extra>",
         "legendgroup": "",
         "marker": {
          "color": "#636efa",
          "pattern": {
           "shape": ""
          }
         },
         "name": "",
         "offsetgroup": "",
         "orientation": "h",
         "showlegend": false,
         "type": "histogram",
         "x": [
          563,
          653,
          1248
         ],
         "xaxis": "x",
         "y": [
          "Acute bronchitis (disorder)",
          "Acute viral pharyngitis (disorder)",
          "Viral sinusitis (disorder)"
         ],
         "yaxis": "y"
        }
       ],
       "layout": {
        "barmode": "relative",
        "legend": {
         "tracegroupgap": 0
        },
        "margin": {
         "t": 60
        },
        "template": {
         "data": {
          "bar": [
           {
            "error_x": {
             "color": "#2a3f5f"
            },
            "error_y": {
             "color": "#2a3f5f"
            },
            "marker": {
             "line": {
              "color": "#E5ECF6",
              "width": 0.5
             },
             "pattern": {
              "fillmode": "overlay",
              "size": 10,
              "solidity": 0.2
             }
            },
            "type": "bar"
           }
          ],
          "barpolar": [
           {
            "marker": {
             "line": {
              "color": "#E5ECF6",
              "width": 0.5
             },
             "pattern": {
              "fillmode": "overlay",
              "size": 10,
              "solidity": 0.2
             }
            },
            "type": "barpolar"
           }
          ],
          "carpet": [
           {
            "aaxis": {
             "endlinecolor": "#2a3f5f",
             "gridcolor": "white",
             "linecolor": "white",
             "minorgridcolor": "white",
             "startlinecolor": "#2a3f5f"
            },
            "baxis": {
             "endlinecolor": "#2a3f5f",
             "gridcolor": "white",
             "linecolor": "white",
             "minorgridcolor": "white",
             "startlinecolor": "#2a3f5f"
            },
            "type": "carpet"
           }
          ],
          "choropleth": [
           {
            "colorbar": {
             "outlinewidth": 0,
             "ticks": ""
            },
            "type": "choropleth"
           }
          ],
          "contour": [
           {
            "colorbar": {
             "outlinewidth": 0,
             "ticks": ""
            },
            "colorscale": [
             [
              0,
              "#0d0887"
             ],
             [
              0.1111111111111111,
              "#46039f"
             ],
             [
              0.2222222222222222,
              "#7201a8"
             ],
             [
              0.3333333333333333,
              "#9c179e"
             ],
             [
              0.4444444444444444,
              "#bd3786"
             ],
             [
              0.5555555555555556,
              "#d8576b"
             ],
             [
              0.6666666666666666,
              "#ed7953"
             ],
             [
              0.7777777777777778,
              "#fb9f3a"
             ],
             [
              0.8888888888888888,
              "#fdca26"
             ],
             [
              1,
              "#f0f921"
             ]
            ],
            "type": "contour"
           }
          ],
          "contourcarpet": [
           {
            "colorbar": {
             "outlinewidth": 0,
             "ticks": ""
            },
            "type": "contourcarpet"
           }
          ],
          "heatmap": [
           {
            "colorbar": {
             "outlinewidth": 0,
             "ticks": ""
            },
            "colorscale": [
             [
              0,
              "#0d0887"
             ],
             [
              0.1111111111111111,
              "#46039f"
             ],
             [
              0.2222222222222222,
              "#7201a8"
             ],
             [
              0.3333333333333333,
              "#9c179e"
             ],
             [
              0.4444444444444444,
              "#bd3786"
             ],
             [
              0.5555555555555556,
              "#d8576b"
             ],
             [
              0.6666666666666666,
              "#ed7953"
             ],
             [
              0.7777777777777778,
              "#fb9f3a"
             ],
             [
              0.8888888888888888,
              "#fdca26"
             ],
             [
              1,
              "#f0f921"
             ]
            ],
            "type": "heatmap"
           }
          ],
          "heatmapgl": [
           {
            "colorbar": {
             "outlinewidth": 0,
             "ticks": ""
            },
            "colorscale": [
             [
              0,
              "#0d0887"
             ],
             [
              0.1111111111111111,
              "#46039f"
             ],
             [
              0.2222222222222222,
              "#7201a8"
             ],
             [
              0.3333333333333333,
              "#9c179e"
             ],
             [
              0.4444444444444444,
              "#bd3786"
             ],
             [
              0.5555555555555556,
              "#d8576b"
             ],
             [
              0.6666666666666666,
              "#ed7953"
             ],
             [
              0.7777777777777778,
              "#fb9f3a"
             ],
             [
              0.8888888888888888,
              "#fdca26"
             ],
             [
              1,
              "#f0f921"
             ]
            ],
            "type": "heatmapgl"
           }
          ],
          "histogram": [
           {
            "marker": {
             "pattern": {
              "fillmode": "overlay",
              "size": 10,
              "solidity": 0.2
             }
            },
            "type": "histogram"
           }
          ],
          "histogram2d": [
           {
            "colorbar": {
             "outlinewidth": 0,
             "ticks": ""
            },
            "colorscale": [
             [
              0,
              "#0d0887"
             ],
             [
              0.1111111111111111,
              "#46039f"
             ],
             [
              0.2222222222222222,
              "#7201a8"
             ],
             [
              0.3333333333333333,
              "#9c179e"
             ],
             [
              0.4444444444444444,
              "#bd3786"
             ],
             [
              0.5555555555555556,
              "#d8576b"
             ],
             [
              0.6666666666666666,
              "#ed7953"
             ],
             [
              0.7777777777777778,
              "#fb9f3a"
             ],
             [
              0.8888888888888888,
              "#fdca26"
             ],
             [
              1,
              "#f0f921"
             ]
            ],
            "type": "histogram2d"
           }
          ],
          "histogram2dcontour": [
           {
            "colorbar": {
             "outlinewidth": 0,
             "ticks": ""
            },
            "colorscale": [
             [
              0,
              "#0d0887"
             ],
             [
              0.1111111111111111,
              "#46039f"
             ],
             [
              0.2222222222222222,
              "#7201a8"
             ],
             [
              0.3333333333333333,
              "#9c179e"
             ],
             [
              0.4444444444444444,
              "#bd3786"
             ],
             [
              0.5555555555555556,
              "#d8576b"
             ],
             [
              0.6666666666666666,
              "#ed7953"
             ],
             [
              0.7777777777777778,
              "#fb9f3a"
             ],
             [
              0.8888888888888888,
              "#fdca26"
             ],
             [
              1,
              "#f0f921"
             ]
            ],
            "type": "histogram2dcontour"
           }
          ],
          "mesh3d": [
           {
            "colorbar": {
             "outlinewidth": 0,
             "ticks": ""
            },
            "type": "mesh3d"
           }
          ],
          "parcoords": [
           {
            "line": {
             "colorbar": {
              "outlinewidth": 0,
              "ticks": ""
             }
            },
            "type": "parcoords"
           }
          ],
          "pie": [
           {
            "automargin": true,
            "type": "pie"
           }
          ],
          "scatter": [
           {
            "fillpattern": {
             "fillmode": "overlay",
             "size": 10,
             "solidity": 0.2
            },
            "type": "scatter"
           }
          ],
          "scatter3d": [
           {
            "line": {
             "colorbar": {
              "outlinewidth": 0,
              "ticks": ""
             }
            },
            "marker": {
             "colorbar": {
              "outlinewidth": 0,
              "ticks": ""
             }
            },
            "type": "scatter3d"
           }
          ],
          "scattercarpet": [
           {
            "marker": {
             "colorbar": {
              "outlinewidth": 0,
              "ticks": ""
             }
            },
            "type": "scattercarpet"
           }
          ],
          "scattergeo": [
           {
            "marker": {
             "colorbar": {
              "outlinewidth": 0,
              "ticks": ""
             }
            },
            "type": "scattergeo"
           }
          ],
          "scattergl": [
           {
            "marker": {
             "colorbar": {
              "outlinewidth": 0,
              "ticks": ""
             }
            },
            "type": "scattergl"
           }
          ],
          "scattermapbox": [
           {
            "marker": {
             "colorbar": {
              "outlinewidth": 0,
              "ticks": ""
             }
            },
            "type": "scattermapbox"
           }
          ],
          "scatterpolar": [
           {
            "marker": {
             "colorbar": {
              "outlinewidth": 0,
              "ticks": ""
             }
            },
            "type": "scatterpolar"
           }
          ],
          "scatterpolargl": [
           {
            "marker": {
             "colorbar": {
              "outlinewidth": 0,
              "ticks": ""
             }
            },
            "type": "scatterpolargl"
           }
          ],
          "scatterternary": [
           {
            "marker": {
             "colorbar": {
              "outlinewidth": 0,
              "ticks": ""
             }
            },
            "type": "scatterternary"
           }
          ],
          "surface": [
           {
            "colorbar": {
             "outlinewidth": 0,
             "ticks": ""
            },
            "colorscale": [
             [
              0,
              "#0d0887"
             ],
             [
              0.1111111111111111,
              "#46039f"
             ],
             [
              0.2222222222222222,
              "#7201a8"
             ],
             [
              0.3333333333333333,
              "#9c179e"
             ],
             [
              0.4444444444444444,
              "#bd3786"
             ],
             [
              0.5555555555555556,
              "#d8576b"
             ],
             [
              0.6666666666666666,
              "#ed7953"
             ],
             [
              0.7777777777777778,
              "#fb9f3a"
             ],
             [
              0.8888888888888888,
              "#fdca26"
             ],
             [
              1,
              "#f0f921"
             ]
            ],
            "type": "surface"
           }
          ],
          "table": [
           {
            "cells": {
             "fill": {
              "color": "#EBF0F8"
             },
             "line": {
              "color": "white"
             }
            },
            "header": {
             "fill": {
              "color": "#C8D4E3"
             },
             "line": {
              "color": "white"
             }
            },
            "type": "table"
           }
          ]
         },
         "layout": {
          "annotationdefaults": {
           "arrowcolor": "#2a3f5f",
           "arrowhead": 0,
           "arrowwidth": 1
          },
          "autotypenumbers": "strict",
          "coloraxis": {
           "colorbar": {
            "outlinewidth": 0,
            "ticks": ""
           }
          },
          "colorscale": {
           "diverging": [
            [
             0,
             "#8e0152"
            ],
            [
             0.1,
             "#c51b7d"
            ],
            [
             0.2,
             "#de77ae"
            ],
            [
             0.3,
             "#f1b6da"
            ],
            [
             0.4,
             "#fde0ef"
            ],
            [
             0.5,
             "#f7f7f7"
            ],
            [
             0.6,
             "#e6f5d0"
            ],
            [
             0.7,
             "#b8e186"
            ],
            [
             0.8,
             "#7fbc41"
            ],
            [
             0.9,
             "#4d9221"
            ],
            [
             1,
             "#276419"
            ]
           ],
           "sequential": [
            [
             0,
             "#0d0887"
            ],
            [
             0.1111111111111111,
             "#46039f"
            ],
            [
             0.2222222222222222,
             "#7201a8"
            ],
            [
             0.3333333333333333,
             "#9c179e"
            ],
            [
             0.4444444444444444,
             "#bd3786"
            ],
            [
             0.5555555555555556,
             "#d8576b"
            ],
            [
             0.6666666666666666,
             "#ed7953"
            ],
            [
             0.7777777777777778,
             "#fb9f3a"
            ],
            [
             0.8888888888888888,
             "#fdca26"
            ],
            [
             1,
             "#f0f921"
            ]
           ],
           "sequentialminus": [
            [
             0,
             "#0d0887"
            ],
            [
             0.1111111111111111,
             "#46039f"
            ],
            [
             0.2222222222222222,
             "#7201a8"
            ],
            [
             0.3333333333333333,
             "#9c179e"
            ],
            [
             0.4444444444444444,
             "#bd3786"
            ],
            [
             0.5555555555555556,
             "#d8576b"
            ],
            [
             0.6666666666666666,
             "#ed7953"
            ],
            [
             0.7777777777777778,
             "#fb9f3a"
            ],
            [
             0.8888888888888888,
             "#fdca26"
            ],
            [
             1,
             "#f0f921"
            ]
           ]
          },
          "colorway": [
           "#636efa",
           "#EF553B",
           "#00cc96",
           "#ab63fa",
           "#FFA15A",
           "#19d3f3",
           "#FF6692",
           "#B6E880",
           "#FF97FF",
           "#FECB52"
          ],
          "font": {
           "color": "#2a3f5f"
          },
          "geo": {
           "bgcolor": "white",
           "lakecolor": "white",
           "landcolor": "#E5ECF6",
           "showlakes": true,
           "showland": true,
           "subunitcolor": "white"
          },
          "hoverlabel": {
           "align": "left"
          },
          "hovermode": "closest",
          "mapbox": {
           "style": "light"
          },
          "paper_bgcolor": "white",
          "plot_bgcolor": "#E5ECF6",
          "polar": {
           "angularaxis": {
            "gridcolor": "white",
            "linecolor": "white",
            "ticks": ""
           },
           "bgcolor": "#E5ECF6",
           "radialaxis": {
            "gridcolor": "white",
            "linecolor": "white",
            "ticks": ""
           }
          },
          "scene": {
           "xaxis": {
            "backgroundcolor": "#E5ECF6",
            "gridcolor": "white",
            "gridwidth": 2,
            "linecolor": "white",
            "showbackground": true,
            "ticks": "",
            "zerolinecolor": "white"
           },
           "yaxis": {
            "backgroundcolor": "#E5ECF6",
            "gridcolor": "white",
            "gridwidth": 2,
            "linecolor": "white",
            "showbackground": true,
            "ticks": "",
            "zerolinecolor": "white"
           },
           "zaxis": {
            "backgroundcolor": "#E5ECF6",
            "gridcolor": "white",
            "gridwidth": 2,
            "linecolor": "white",
            "showbackground": true,
            "ticks": "",
            "zerolinecolor": "white"
           }
          },
          "shapedefaults": {
           "line": {
            "color": "#2a3f5f"
           }
          },
          "ternary": {
           "aaxis": {
            "gridcolor": "white",
            "linecolor": "white",
            "ticks": ""
           },
           "baxis": {
            "gridcolor": "white",
            "linecolor": "white",
            "ticks": ""
           },
           "bgcolor": "#E5ECF6",
           "caxis": {
            "gridcolor": "white",
            "linecolor": "white",
            "ticks": ""
           }
          },
          "title": {
           "x": 0.05
          },
          "xaxis": {
           "automargin": true,
           "gridcolor": "white",
           "linecolor": "white",
           "ticks": "",
           "title": {
            "standoff": 15
           },
           "zerolinecolor": "white",
           "zerolinewidth": 2
          },
          "yaxis": {
           "automargin": true,
           "gridcolor": "white",
           "linecolor": "white",
           "ticks": "",
           "title": {
            "standoff": 15
           },
           "zerolinecolor": "white",
           "zerolinewidth": 2
          }
         }
        },
        "title": {
         "text": "Most Common Conditions"
        },
        "xaxis": {
         "anchor": "y",
         "domain": [
          0,
          1
         ],
         "title": {
          "text": "Count"
         }
        },
        "yaxis": {
         "anchor": "x",
         "domain": [
          0,
          1
         ],
         "title": {
          "text": "DESCRIPTION"
         }
        }
       }
      },
      "text/html": [
       "<div>                            <div id=\"4f11c60c-9306-4d79-b8d2-83537f9d2f9b\" class=\"plotly-graph-div\" style=\"height:525px; width:100%;\"></div>            <script type=\"text/javascript\">                require([\"plotly\"], function(Plotly) {                    window.PLOTLYENV=window.PLOTLYENV || {};                                    if (document.getElementById(\"4f11c60c-9306-4d79-b8d2-83537f9d2f9b\")) {                    Plotly.newPlot(                        \"4f11c60c-9306-4d79-b8d2-83537f9d2f9b\",                        [{\"alignmentgroup\":\"True\",\"bingroup\":\"y\",\"histfunc\":\"sum\",\"hovertemplate\":\"sum of count=%{x}<br>DESCRIPTION=%{y}<extra></extra>\",\"legendgroup\":\"\",\"marker\":{\"color\":\"#636efa\",\"pattern\":{\"shape\":\"\"}},\"name\":\"\",\"offsetgroup\":\"\",\"orientation\":\"h\",\"showlegend\":false,\"x\":[563,653,1248],\"xaxis\":\"x\",\"y\":[\"Acute bronchitis (disorder)\",\"Acute viral pharyngitis (disorder)\",\"Viral sinusitis (disorder)\"],\"yaxis\":\"y\",\"type\":\"histogram\"}],                        {\"template\":{\"data\":{\"histogram2dcontour\":[{\"type\":\"histogram2dcontour\",\"colorbar\":{\"outlinewidth\":0,\"ticks\":\"\"},\"colorscale\":[[0.0,\"#0d0887\"],[0.1111111111111111,\"#46039f\"],[0.2222222222222222,\"#7201a8\"],[0.3333333333333333,\"#9c179e\"],[0.4444444444444444,\"#bd3786\"],[0.5555555555555556,\"#d8576b\"],[0.6666666666666666,\"#ed7953\"],[0.7777777777777778,\"#fb9f3a\"],[0.8888888888888888,\"#fdca26\"],[1.0,\"#f0f921\"]]}],\"choropleth\":[{\"type\":\"choropleth\",\"colorbar\":{\"outlinewidth\":0,\"ticks\":\"\"}}],\"histogram2d\":[{\"type\":\"histogram2d\",\"colorbar\":{\"outlinewidth\":0,\"ticks\":\"\"},\"colorscale\":[[0.0,\"#0d0887\"],[0.1111111111111111,\"#46039f\"],[0.2222222222222222,\"#7201a8\"],[0.3333333333333333,\"#9c179e\"],[0.4444444444444444,\"#bd3786\"],[0.5555555555555556,\"#d8576b\"],[0.6666666666666666,\"#ed7953\"],[0.7777777777777778,\"#fb9f3a\"],[0.8888888888888888,\"#fdca26\"],[1.0,\"#f0f921\"]]}],\"heatmap\":[{\"type\":\"heatmap\",\"colorbar\":{\"outlinewidth\":0,\"ticks\":\"\"},\"colorscale\":[[0.0,\"#0d0887\"],[0.1111111111111111,\"#46039f\"],[0.2222222222222222,\"#7201a8\"],[0.3333333333333333,\"#9c179e\"],[0.4444444444444444,\"#bd3786\"],[0.5555555555555556,\"#d8576b\"],[0.6666666666666666,\"#ed7953\"],[0.7777777777777778,\"#fb9f3a\"],[0.8888888888888888,\"#fdca26\"],[1.0,\"#f0f921\"]]}],\"heatmapgl\":[{\"type\":\"heatmapgl\",\"colorbar\":{\"outlinewidth\":0,\"ticks\":\"\"},\"colorscale\":[[0.0,\"#0d0887\"],[0.1111111111111111,\"#46039f\"],[0.2222222222222222,\"#7201a8\"],[0.3333333333333333,\"#9c179e\"],[0.4444444444444444,\"#bd3786\"],[0.5555555555555556,\"#d8576b\"],[0.6666666666666666,\"#ed7953\"],[0.7777777777777778,\"#fb9f3a\"],[0.8888888888888888,\"#fdca26\"],[1.0,\"#f0f921\"]]}],\"contourcarpet\":[{\"type\":\"contourcarpet\",\"colorbar\":{\"outlinewidth\":0,\"ticks\":\"\"}}],\"contour\":[{\"type\":\"contour\",\"colorbar\":{\"outlinewidth\":0,\"ticks\":\"\"},\"colorscale\":[[0.0,\"#0d0887\"],[0.1111111111111111,\"#46039f\"],[0.2222222222222222,\"#7201a8\"],[0.3333333333333333,\"#9c179e\"],[0.4444444444444444,\"#bd3786\"],[0.5555555555555556,\"#d8576b\"],[0.6666666666666666,\"#ed7953\"],[0.7777777777777778,\"#fb9f3a\"],[0.8888888888888888,\"#fdca26\"],[1.0,\"#f0f921\"]]}],\"surface\":[{\"type\":\"surface\",\"colorbar\":{\"outlinewidth\":0,\"ticks\":\"\"},\"colorscale\":[[0.0,\"#0d0887\"],[0.1111111111111111,\"#46039f\"],[0.2222222222222222,\"#7201a8\"],[0.3333333333333333,\"#9c179e\"],[0.4444444444444444,\"#bd3786\"],[0.5555555555555556,\"#d8576b\"],[0.6666666666666666,\"#ed7953\"],[0.7777777777777778,\"#fb9f3a\"],[0.8888888888888888,\"#fdca26\"],[1.0,\"#f0f921\"]]}],\"mesh3d\":[{\"type\":\"mesh3d\",\"colorbar\":{\"outlinewidth\":0,\"ticks\":\"\"}}],\"scatter\":[{\"fillpattern\":{\"fillmode\":\"overlay\",\"size\":10,\"solidity\":0.2},\"type\":\"scatter\"}],\"parcoords\":[{\"type\":\"parcoords\",\"line\":{\"colorbar\":{\"outlinewidth\":0,\"ticks\":\"\"}}}],\"scatterpolargl\":[{\"type\":\"scatterpolargl\",\"marker\":{\"colorbar\":{\"outlinewidth\":0,\"ticks\":\"\"}}}],\"bar\":[{\"error_x\":{\"color\":\"#2a3f5f\"},\"error_y\":{\"color\":\"#2a3f5f\"},\"marker\":{\"line\":{\"color\":\"#E5ECF6\",\"width\":0.5},\"pattern\":{\"fillmode\":\"overlay\",\"size\":10,\"solidity\":0.2}},\"type\":\"bar\"}],\"scattergeo\":[{\"type\":\"scattergeo\",\"marker\":{\"colorbar\":{\"outlinewidth\":0,\"ticks\":\"\"}}}],\"scatterpolar\":[{\"type\":\"scatterpolar\",\"marker\":{\"colorbar\":{\"outlinewidth\":0,\"ticks\":\"\"}}}],\"histogram\":[{\"marker\":{\"pattern\":{\"fillmode\":\"overlay\",\"size\":10,\"solidity\":0.2}},\"type\":\"histogram\"}],\"scattergl\":[{\"type\":\"scattergl\",\"marker\":{\"colorbar\":{\"outlinewidth\":0,\"ticks\":\"\"}}}],\"scatter3d\":[{\"type\":\"scatter3d\",\"line\":{\"colorbar\":{\"outlinewidth\":0,\"ticks\":\"\"}},\"marker\":{\"colorbar\":{\"outlinewidth\":0,\"ticks\":\"\"}}}],\"scattermapbox\":[{\"type\":\"scattermapbox\",\"marker\":{\"colorbar\":{\"outlinewidth\":0,\"ticks\":\"\"}}}],\"scatterternary\":[{\"type\":\"scatterternary\",\"marker\":{\"colorbar\":{\"outlinewidth\":0,\"ticks\":\"\"}}}],\"scattercarpet\":[{\"type\":\"scattercarpet\",\"marker\":{\"colorbar\":{\"outlinewidth\":0,\"ticks\":\"\"}}}],\"carpet\":[{\"aaxis\":{\"endlinecolor\":\"#2a3f5f\",\"gridcolor\":\"white\",\"linecolor\":\"white\",\"minorgridcolor\":\"white\",\"startlinecolor\":\"#2a3f5f\"},\"baxis\":{\"endlinecolor\":\"#2a3f5f\",\"gridcolor\":\"white\",\"linecolor\":\"white\",\"minorgridcolor\":\"white\",\"startlinecolor\":\"#2a3f5f\"},\"type\":\"carpet\"}],\"table\":[{\"cells\":{\"fill\":{\"color\":\"#EBF0F8\"},\"line\":{\"color\":\"white\"}},\"header\":{\"fill\":{\"color\":\"#C8D4E3\"},\"line\":{\"color\":\"white\"}},\"type\":\"table\"}],\"barpolar\":[{\"marker\":{\"line\":{\"color\":\"#E5ECF6\",\"width\":0.5},\"pattern\":{\"fillmode\":\"overlay\",\"size\":10,\"solidity\":0.2}},\"type\":\"barpolar\"}],\"pie\":[{\"automargin\":true,\"type\":\"pie\"}]},\"layout\":{\"autotypenumbers\":\"strict\",\"colorway\":[\"#636efa\",\"#EF553B\",\"#00cc96\",\"#ab63fa\",\"#FFA15A\",\"#19d3f3\",\"#FF6692\",\"#B6E880\",\"#FF97FF\",\"#FECB52\"],\"font\":{\"color\":\"#2a3f5f\"},\"hovermode\":\"closest\",\"hoverlabel\":{\"align\":\"left\"},\"paper_bgcolor\":\"white\",\"plot_bgcolor\":\"#E5ECF6\",\"polar\":{\"bgcolor\":\"#E5ECF6\",\"angularaxis\":{\"gridcolor\":\"white\",\"linecolor\":\"white\",\"ticks\":\"\"},\"radialaxis\":{\"gridcolor\":\"white\",\"linecolor\":\"white\",\"ticks\":\"\"}},\"ternary\":{\"bgcolor\":\"#E5ECF6\",\"aaxis\":{\"gridcolor\":\"white\",\"linecolor\":\"white\",\"ticks\":\"\"},\"baxis\":{\"gridcolor\":\"white\",\"linecolor\":\"white\",\"ticks\":\"\"},\"caxis\":{\"gridcolor\":\"white\",\"linecolor\":\"white\",\"ticks\":\"\"}},\"coloraxis\":{\"colorbar\":{\"outlinewidth\":0,\"ticks\":\"\"}},\"colorscale\":{\"sequential\":[[0.0,\"#0d0887\"],[0.1111111111111111,\"#46039f\"],[0.2222222222222222,\"#7201a8\"],[0.3333333333333333,\"#9c179e\"],[0.4444444444444444,\"#bd3786\"],[0.5555555555555556,\"#d8576b\"],[0.6666666666666666,\"#ed7953\"],[0.7777777777777778,\"#fb9f3a\"],[0.8888888888888888,\"#fdca26\"],[1.0,\"#f0f921\"]],\"sequentialminus\":[[0.0,\"#0d0887\"],[0.1111111111111111,\"#46039f\"],[0.2222222222222222,\"#7201a8\"],[0.3333333333333333,\"#9c179e\"],[0.4444444444444444,\"#bd3786\"],[0.5555555555555556,\"#d8576b\"],[0.6666666666666666,\"#ed7953\"],[0.7777777777777778,\"#fb9f3a\"],[0.8888888888888888,\"#fdca26\"],[1.0,\"#f0f921\"]],\"diverging\":[[0,\"#8e0152\"],[0.1,\"#c51b7d\"],[0.2,\"#de77ae\"],[0.3,\"#f1b6da\"],[0.4,\"#fde0ef\"],[0.5,\"#f7f7f7\"],[0.6,\"#e6f5d0\"],[0.7,\"#b8e186\"],[0.8,\"#7fbc41\"],[0.9,\"#4d9221\"],[1,\"#276419\"]]},\"xaxis\":{\"gridcolor\":\"white\",\"linecolor\":\"white\",\"ticks\":\"\",\"title\":{\"standoff\":15},\"zerolinecolor\":\"white\",\"automargin\":true,\"zerolinewidth\":2},\"yaxis\":{\"gridcolor\":\"white\",\"linecolor\":\"white\",\"ticks\":\"\",\"title\":{\"standoff\":15},\"zerolinecolor\":\"white\",\"automargin\":true,\"zerolinewidth\":2},\"scene\":{\"xaxis\":{\"backgroundcolor\":\"#E5ECF6\",\"gridcolor\":\"white\",\"linecolor\":\"white\",\"showbackground\":true,\"ticks\":\"\",\"zerolinecolor\":\"white\",\"gridwidth\":2},\"yaxis\":{\"backgroundcolor\":\"#E5ECF6\",\"gridcolor\":\"white\",\"linecolor\":\"white\",\"showbackground\":true,\"ticks\":\"\",\"zerolinecolor\":\"white\",\"gridwidth\":2},\"zaxis\":{\"backgroundcolor\":\"#E5ECF6\",\"gridcolor\":\"white\",\"linecolor\":\"white\",\"showbackground\":true,\"ticks\":\"\",\"zerolinecolor\":\"white\",\"gridwidth\":2}},\"shapedefaults\":{\"line\":{\"color\":\"#2a3f5f\"}},\"annotationdefaults\":{\"arrowcolor\":\"#2a3f5f\",\"arrowhead\":0,\"arrowwidth\":1},\"geo\":{\"bgcolor\":\"white\",\"landcolor\":\"#E5ECF6\",\"subunitcolor\":\"white\",\"showland\":true,\"showlakes\":true,\"lakecolor\":\"white\"},\"title\":{\"x\":0.05},\"mapbox\":{\"style\":\"light\"}}},\"xaxis\":{\"anchor\":\"y\",\"domain\":[0.0,1.0],\"title\":{\"text\":\"Count\"}},\"yaxis\":{\"anchor\":\"x\",\"domain\":[0.0,1.0],\"title\":{\"text\":\"DESCRIPTION\"}},\"legend\":{\"tracegroupgap\":0},\"margin\":{\"t\":60},\"barmode\":\"relative\",\"title\":{\"text\":\"Most Common Conditions\"}},                        {\"responsive\": true}                    ).then(function(){\n",
       "                            \n",
       "var gd = document.getElementById('4f11c60c-9306-4d79-b8d2-83537f9d2f9b');\n",
       "var x = new MutationObserver(function (mutations, observer) {{\n",
       "        var display = window.getComputedStyle(gd).display;\n",
       "        if (!display || display === 'none') {{\n",
       "            console.log([gd, 'removed!']);\n",
       "            Plotly.purge(gd);\n",
       "            observer.disconnect();\n",
       "        }}\n",
       "}});\n",
       "\n",
       "// Listen for the removal of the full notebook cells\n",
       "var notebookContainer = gd.closest('#notebook-container');\n",
       "if (notebookContainer) {{\n",
       "    x.observe(notebookContainer, {childList: true});\n",
       "}}\n",
       "\n",
       "// Listen for the clearing of the current output cell\n",
       "var outputEl = gd.closest('.output');\n",
       "if (outputEl) {{\n",
       "    x.observe(outputEl, {childList: true});\n",
       "}}\n",
       "\n",
       "                        })                };                });            </script>        </div>"
      ]
     },
     "metadata": {},
     "output_type": "display_data"
    }
   ],
   "source": [
    "conditions_df = dfs[\"conditions\"]\n",
    "\n",
    "# 3 most common conditions\n",
    "conditions_agg = conditions_df.groupby(\n",
    "    [\"DESCRIPTION\"], as_index=False).agg(\n",
    "        count=pd.NamedAgg(column=\"DESCRIPTION\", aggfunc=\"count\"),).sort_values('count')[-3:]\n",
    "\n",
    "fig = px.histogram(conditions_agg, y=\"DESCRIPTION\", x=\"count\")\n",
    "\n",
    "fig.update_layout(\n",
    "    title_text=\"Most Common Conditions\",\n",
    "    xaxis_title_text=\"Count\", # yaxis label\n",
    ")\n",
    "\n",
    "fig.show()"
   ]
  },
  {
   "cell_type": "markdown",
   "id": "64d92e4b",
   "metadata": {},
   "source": [
    "\n",
    "**Sinusitis**, also known as rhinosinusitis, is inflammation of the mucous membranes that line the sinuses resulting in symptoms that may include thick nasal mucus, a plugged nose, and facial pain [Sinusitis - Wikipedia](https://en.wikipedia.org/wiki/Sinusitis)\n",
    "\n",
    "**Pharyngitis** is inflammation of the back of the throat, known as the pharynx [Pharyngitis - Wikipedia](https://en.wikipedia.org/wiki/Pharyngitis)\n",
    "\n",
    "**Acute bronchitis**, also known as a chest cold, is short-term bronchitis – inflammation of the bronchi (large and medium-sized airways) of the lungs [Acute bronchitis - Wikipedia](https://en.wikipedia.org/wiki/Acute_bronchitis)\n",
    "\n",
    "The common conditions seem to be related to an inflammation of a part of the respiratory system"
   ]
  },
  {
   "cell_type": "markdown",
   "id": "6554c8c9",
   "metadata": {},
   "source": [
    "\n",
    "Let's see how these conditions are treated using medications and procedures"
   ]
  },
  {
   "cell_type": "code",
   "execution_count": 12,
   "id": "35962d9b",
   "metadata": {
    "lines_to_next_cell": 2
   },
   "outputs": [
    {
     "data": {
      "text/html": [
       "<div>\n",
       "<style scoped>\n",
       "    .dataframe tbody tr th:only-of-type {\n",
       "        vertical-align: middle;\n",
       "    }\n",
       "\n",
       "    .dataframe tbody tr th {\n",
       "        vertical-align: top;\n",
       "    }\n",
       "\n",
       "    .dataframe thead th {\n",
       "        text-align: right;\n",
       "    }\n",
       "</style>\n",
       "<table border=\"1\" class=\"dataframe\">\n",
       "  <thead>\n",
       "    <tr style=\"text-align: right;\">\n",
       "      <th></th>\n",
       "      <th>REASONDESCRIPTION</th>\n",
       "      <th>DESCRIPTION</th>\n",
       "      <th>count</th>\n",
       "    </tr>\n",
       "  </thead>\n",
       "  <tbody>\n",
       "    <tr>\n",
       "      <th>1</th>\n",
       "      <td>Acute bronchitis (disorder)</td>\n",
       "      <td>Acetaminophen 325 MG Oral Tablet</td>\n",
       "      <td>440</td>\n",
       "    </tr>\n",
       "    <tr>\n",
       "      <th>3</th>\n",
       "      <td>Viral sinusitis (disorder)</td>\n",
       "      <td>Amoxicillin 250 MG / Clavulanate 125 MG Oral Tablet</td>\n",
       "      <td>247</td>\n",
       "    </tr>\n",
       "    <tr>\n",
       "      <th>0</th>\n",
       "      <td>Acute bronchitis (disorder)</td>\n",
       "      <td>Acetaminophen 21.7 MG/ML / Dextromethorphan Hydrobromide 1 MG/ML / doxylamine succinate 0.417 MG/ML Oral Solution</td>\n",
       "      <td>126</td>\n",
       "    </tr>\n",
       "    <tr>\n",
       "      <th>2</th>\n",
       "      <td>Acute viral pharyngitis (disorder)</td>\n",
       "      <td>Penicillin V Potassium 250 MG Oral Tablet</td>\n",
       "      <td>9</td>\n",
       "    </tr>\n",
       "  </tbody>\n",
       "</table>\n",
       "</div>"
      ],
      "text/plain": [
       "                    REASONDESCRIPTION  \\\n",
       "1         Acute bronchitis (disorder)   \n",
       "3          Viral sinusitis (disorder)   \n",
       "0         Acute bronchitis (disorder)   \n",
       "2  Acute viral pharyngitis (disorder)   \n",
       "\n",
       "                                                                                                         DESCRIPTION  \\\n",
       "1                                                                                   Acetaminophen 325 MG Oral Tablet   \n",
       "3                                                                Amoxicillin 250 MG / Clavulanate 125 MG Oral Tablet   \n",
       "0  Acetaminophen 21.7 MG/ML / Dextromethorphan Hydrobromide 1 MG/ML / doxylamine succinate 0.417 MG/ML Oral Solution   \n",
       "2                                                                          Penicillin V Potassium 250 MG Oral Tablet   \n",
       "\n",
       "   count  \n",
       "1    440  \n",
       "3    247  \n",
       "0    126  \n",
       "2      9  "
      ]
     },
     "execution_count": 12,
     "metadata": {},
     "output_type": "execute_result"
    }
   ],
   "source": [
    "# Get rows that are related to the common conditions\n",
    "pd.set_option('display.max_colwidth', None)\n",
    "\n",
    "medications_df = dfs['medications']\n",
    "\n",
    "medications_df = medications_df[medications_df['REASONDESCRIPTION'].isin(list(conditions_agg['DESCRIPTION']))]\n",
    "\n",
    "# 3 most common conditions\n",
    "medications_agg = medications_df.groupby( [\"REASONDESCRIPTION\", \"DESCRIPTION\"], as_index=False).agg( \n",
    "    count=pd.NamedAgg(column=\"DESCRIPTION\", aggfunc=\"count\"),\n",
    ").sort_values('count', ascending=False)\n",
    "\n",
    "medications_agg.head()"
   ]
  },
  {
   "cell_type": "code",
   "execution_count": 13,
   "id": "52cec67f",
   "metadata": {
    "lines_to_next_cell": 1
   },
   "outputs": [
    {
     "data": {
      "text/html": [
       "<div>\n",
       "<style scoped>\n",
       "    .dataframe tbody tr th:only-of-type {\n",
       "        vertical-align: middle;\n",
       "    }\n",
       "\n",
       "    .dataframe tbody tr th {\n",
       "        vertical-align: top;\n",
       "    }\n",
       "\n",
       "    .dataframe thead th {\n",
       "        text-align: right;\n",
       "    }\n",
       "</style>\n",
       "<table border=\"1\" class=\"dataframe\">\n",
       "  <thead>\n",
       "    <tr style=\"text-align: right;\">\n",
       "      <th></th>\n",
       "      <th>REASONDESCRIPTION</th>\n",
       "      <th>DESCRIPTION</th>\n",
       "      <th>count</th>\n",
       "    </tr>\n",
       "  </thead>\n",
       "  <tbody>\n",
       "    <tr>\n",
       "      <th>0</th>\n",
       "      <td>Acute bronchitis (disorder)</td>\n",
       "      <td>Measurement of respiratory function (procedure)</td>\n",
       "      <td>288</td>\n",
       "    </tr>\n",
       "    <tr>\n",
       "      <th>3</th>\n",
       "      <td>Acute viral pharyngitis (disorder)</td>\n",
       "      <td>Throat culture (procedure)</td>\n",
       "      <td>241</td>\n",
       "    </tr>\n",
       "    <tr>\n",
       "      <th>2</th>\n",
       "      <td>Acute bronchitis (disorder)</td>\n",
       "      <td>Sputum examination (procedure)</td>\n",
       "      <td>113</td>\n",
       "    </tr>\n",
       "    <tr>\n",
       "      <th>1</th>\n",
       "      <td>Acute bronchitis (disorder)</td>\n",
       "      <td>Plain chest X-ray (procedure)</td>\n",
       "      <td>39</td>\n",
       "    </tr>\n",
       "  </tbody>\n",
       "</table>\n",
       "</div>"
      ],
      "text/plain": [
       "                    REASONDESCRIPTION  \\\n",
       "0         Acute bronchitis (disorder)   \n",
       "3  Acute viral pharyngitis (disorder)   \n",
       "2         Acute bronchitis (disorder)   \n",
       "1         Acute bronchitis (disorder)   \n",
       "\n",
       "                                       DESCRIPTION  count  \n",
       "0  Measurement of respiratory function (procedure)    288  \n",
       "3                       Throat culture (procedure)    241  \n",
       "2                   Sputum examination (procedure)    113  \n",
       "1                    Plain chest X-ray (procedure)     39  "
      ]
     },
     "execution_count": 13,
     "metadata": {},
     "output_type": "execute_result"
    }
   ],
   "source": [
    "\n",
    "procedures_df = dfs['procedures']\n",
    "procedures_df = procedures_df[procedures_df['REASONDESCRIPTION'].isin(list(conditions_agg['DESCRIPTION']))]\n",
    "\n",
    "# 3 most common conditions\n",
    "procedures_agg = procedures_df.groupby( [\"REASONDESCRIPTION\", \"DESCRIPTION\"], as_index=False).agg( \n",
    "    count=pd.NamedAgg(column=\"DESCRIPTION\", aggfunc=\"count\"),\n",
    ").sort_values('count', ascending=False)\n",
    "\n",
    "procedures_agg.head()"
   ]
  },
  {
   "cell_type": "markdown",
   "id": "3a73c1b9",
   "metadata": {},
   "source": [
    "\n",
    "Other common patterns among common conditions (duration of conditions, observations)"
   ]
  },
  {
   "cell_type": "code",
   "execution_count": 110,
   "id": "601aec06",
   "metadata": {
    "lines_to_next_cell": 0
   },
   "outputs": [
    {
     "data": {
      "text/html": [
       "<div>\n",
       "<style scoped>\n",
       "    .dataframe tbody tr th:only-of-type {\n",
       "        vertical-align: middle;\n",
       "    }\n",
       "\n",
       "    .dataframe tbody tr th {\n",
       "        vertical-align: top;\n",
       "    }\n",
       "\n",
       "    .dataframe thead th {\n",
       "        text-align: right;\n",
       "    }\n",
       "</style>\n",
       "<table border=\"1\" class=\"dataframe\">\n",
       "  <thead>\n",
       "    <tr style=\"text-align: right;\">\n",
       "      <th></th>\n",
       "      <th>DESCRIPTION</th>\n",
       "      <th>count</th>\n",
       "      <th>duration_avg</th>\n",
       "    </tr>\n",
       "  </thead>\n",
       "  <tbody>\n",
       "    <tr>\n",
       "      <th>58</th>\n",
       "      <td>Viral sinusitis (disorder)</td>\n",
       "      <td>1242</td>\n",
       "      <td>13 days 22:42:19.130434782</td>\n",
       "    </tr>\n",
       "    <tr>\n",
       "      <th>3</th>\n",
       "      <td>Acute viral pharyngitis (disorder)</td>\n",
       "      <td>650</td>\n",
       "      <td>9 days 22:07:00.923076923</td>\n",
       "    </tr>\n",
       "    <tr>\n",
       "      <th>2</th>\n",
       "      <td>Acute bronchitis (disorder)</td>\n",
       "      <td>562</td>\n",
       "      <td>10 days 09:59:34.377224199</td>\n",
       "    </tr>\n",
       "  </tbody>\n",
       "</table>\n",
       "</div>"
      ],
      "text/plain": [
       "                           DESCRIPTION  count               duration_avg\n",
       "58          Viral sinusitis (disorder)   1242 13 days 22:42:19.130434782\n",
       "3   Acute viral pharyngitis (disorder)    650  9 days 22:07:00.923076923\n",
       "2          Acute bronchitis (disorder)    562 10 days 09:59:34.377224199"
      ]
     },
     "execution_count": 110,
     "metadata": {},
     "output_type": "execute_result"
    }
   ],
   "source": [
    "\n",
    "# The average duration of the conditions\n",
    "def set_datetime_columns(df):\n",
    "    df.loc[:, 'START'] = pd.to_datetime(df['START'])\n",
    "    df.loc[:, 'STOP'] = pd.to_datetime(df['STOP'])\n",
    "    return df\n",
    "\n",
    "conditions_df = dfs['conditions']\n",
    "conditions_df = set_datetime_columns(conditions_df.copy())\n",
    "\n",
    "# Some conditions don't have an end time\n",
    "conditions_df = conditions_df.dropna(subset=['STOP'])\n",
    "\n",
    "conditions_df[\"Duration\"] = conditions_df['STOP'] - conditions_df['START']\n",
    "\n",
    "conditions_agg = conditions_df.groupby( [\"DESCRIPTION\"], as_index=False).agg(\n",
    "    count=pd.NamedAgg(column=\"DESCRIPTION\", aggfunc=\"count\"),\n",
    "    duration_avg=pd.NamedAgg(column=\"Duration\", aggfunc=\"mean\"),\n",
    ").sort_values('count')[-3:]\n",
    "\n",
    "conditions_agg[\"duration_avg\"] = conditions_agg[\"duration_avg\"]\n",
    "\n",
    "conditions_agg.sort_values('count', ascending=False).head()"
   ]
  },
  {
   "cell_type": "code",
   "execution_count": 113,
   "id": "bc668190",
   "metadata": {},
   "outputs": [
    {
     "data": {
      "text/html": [
       "<div>\n",
       "<style scoped>\n",
       "    .dataframe tbody tr th:only-of-type {\n",
       "        vertical-align: middle;\n",
       "    }\n",
       "\n",
       "    .dataframe tbody tr th {\n",
       "        vertical-align: top;\n",
       "    }\n",
       "\n",
       "    .dataframe thead th {\n",
       "        text-align: right;\n",
       "    }\n",
       "</style>\n",
       "<table border=\"1\" class=\"dataframe\">\n",
       "  <thead>\n",
       "    <tr style=\"text-align: right;\">\n",
       "      <th></th>\n",
       "      <th>DESCRIPTION_condition</th>\n",
       "      <th>DESCRIPTION_observation</th>\n",
       "      <th>observations_count</th>\n",
       "      <th>value_avg</th>\n",
       "    </tr>\n",
       "  </thead>\n",
       "  <tbody>\n",
       "    <tr>\n",
       "      <th>0</th>\n",
       "      <td>Acute bronchitis (disorder)</td>\n",
       "      <td>Body Height</td>\n",
       "      <td>62</td>\n",
       "      <td>156.969355</td>\n",
       "    </tr>\n",
       "    <tr>\n",
       "      <th>76</th>\n",
       "      <td>Viral sinusitis (disorder)</td>\n",
       "      <td>Body Height</td>\n",
       "      <td>143</td>\n",
       "      <td>158.635664</td>\n",
       "    </tr>\n",
       "    <tr>\n",
       "      <th>38</th>\n",
       "      <td>Acute viral pharyngitis (disorder)</td>\n",
       "      <td>Body Height</td>\n",
       "      <td>38</td>\n",
       "      <td>157.036842</td>\n",
       "    </tr>\n",
       "    <tr>\n",
       "      <th>1</th>\n",
       "      <td>Acute bronchitis (disorder)</td>\n",
       "      <td>Body Mass Index</td>\n",
       "      <td>61</td>\n",
       "      <td>24.944262</td>\n",
       "    </tr>\n",
       "    <tr>\n",
       "      <th>77</th>\n",
       "      <td>Viral sinusitis (disorder)</td>\n",
       "      <td>Body Mass Index</td>\n",
       "      <td>139</td>\n",
       "      <td>26.152518</td>\n",
       "    </tr>\n",
       "    <tr>\n",
       "      <th>39</th>\n",
       "      <td>Acute viral pharyngitis (disorder)</td>\n",
       "      <td>Body Mass Index</td>\n",
       "      <td>35</td>\n",
       "      <td>26.637143</td>\n",
       "    </tr>\n",
       "    <tr>\n",
       "      <th>2</th>\n",
       "      <td>Acute bronchitis (disorder)</td>\n",
       "      <td>Body Weight</td>\n",
       "      <td>62</td>\n",
       "      <td>65.650000</td>\n",
       "    </tr>\n",
       "    <tr>\n",
       "      <th>78</th>\n",
       "      <td>Viral sinusitis (disorder)</td>\n",
       "      <td>Body Weight</td>\n",
       "      <td>143</td>\n",
       "      <td>69.120280</td>\n",
       "    </tr>\n",
       "    <tr>\n",
       "      <th>40</th>\n",
       "      <td>Acute viral pharyngitis (disorder)</td>\n",
       "      <td>Body Weight</td>\n",
       "      <td>38</td>\n",
       "      <td>68.405263</td>\n",
       "    </tr>\n",
       "    <tr>\n",
       "      <th>3</th>\n",
       "      <td>Acute bronchitis (disorder)</td>\n",
       "      <td>Body mass index (BMI) [Percentile] Per age and gender</td>\n",
       "      <td>22</td>\n",
       "      <td>56.090909</td>\n",
       "    </tr>\n",
       "    <tr>\n",
       "      <th>79</th>\n",
       "      <td>Viral sinusitis (disorder)</td>\n",
       "      <td>Body mass index (BMI) [Percentile] Per age and gender</td>\n",
       "      <td>35</td>\n",
       "      <td>61.277143</td>\n",
       "    </tr>\n",
       "    <tr>\n",
       "      <th>41</th>\n",
       "      <td>Acute viral pharyngitis (disorder)</td>\n",
       "      <td>Body mass index (BMI) [Percentile] Per age and gender</td>\n",
       "      <td>9</td>\n",
       "      <td>77.444444</td>\n",
       "    </tr>\n",
       "    <tr>\n",
       "      <th>42</th>\n",
       "      <td>Acute viral pharyngitis (disorder)</td>\n",
       "      <td>Body temperature</td>\n",
       "      <td>645</td>\n",
       "      <td>37.484341</td>\n",
       "    </tr>\n",
       "    <tr>\n",
       "      <th>80</th>\n",
       "      <td>Viral sinusitis (disorder)</td>\n",
       "      <td>Calcium</td>\n",
       "      <td>41</td>\n",
       "      <td>9.436585</td>\n",
       "    </tr>\n",
       "    <tr>\n",
       "      <th>43</th>\n",
       "      <td>Acute viral pharyngitis (disorder)</td>\n",
       "      <td>Calcium</td>\n",
       "      <td>7</td>\n",
       "      <td>9.285714</td>\n",
       "    </tr>\n",
       "    <tr>\n",
       "      <th>4</th>\n",
       "      <td>Acute bronchitis (disorder)</td>\n",
       "      <td>Calcium</td>\n",
       "      <td>13</td>\n",
       "      <td>9.153846</td>\n",
       "    </tr>\n",
       "    <tr>\n",
       "      <th>44</th>\n",
       "      <td>Acute viral pharyngitis (disorder)</td>\n",
       "      <td>Carbon Dioxide</td>\n",
       "      <td>7</td>\n",
       "      <td>23.071429</td>\n",
       "    </tr>\n",
       "    <tr>\n",
       "      <th>5</th>\n",
       "      <td>Acute bronchitis (disorder)</td>\n",
       "      <td>Carbon Dioxide</td>\n",
       "      <td>13</td>\n",
       "      <td>24.407692</td>\n",
       "    </tr>\n",
       "    <tr>\n",
       "      <th>81</th>\n",
       "      <td>Viral sinusitis (disorder)</td>\n",
       "      <td>Carbon Dioxide</td>\n",
       "      <td>41</td>\n",
       "      <td>24.007317</td>\n",
       "    </tr>\n",
       "    <tr>\n",
       "      <th>45</th>\n",
       "      <td>Acute viral pharyngitis (disorder)</td>\n",
       "      <td>Chloride</td>\n",
       "      <td>7</td>\n",
       "      <td>107.814286</td>\n",
       "    </tr>\n",
       "    <tr>\n",
       "      <th>6</th>\n",
       "      <td>Acute bronchitis (disorder)</td>\n",
       "      <td>Chloride</td>\n",
       "      <td>13</td>\n",
       "      <td>107.046154</td>\n",
       "    </tr>\n",
       "    <tr>\n",
       "      <th>82</th>\n",
       "      <td>Viral sinusitis (disorder)</td>\n",
       "      <td>Chloride</td>\n",
       "      <td>41</td>\n",
       "      <td>105.943902</td>\n",
       "    </tr>\n",
       "    <tr>\n",
       "      <th>46</th>\n",
       "      <td>Acute viral pharyngitis (disorder)</td>\n",
       "      <td>Creatinine</td>\n",
       "      <td>7</td>\n",
       "      <td>1.600000</td>\n",
       "    </tr>\n",
       "    <tr>\n",
       "      <th>7</th>\n",
       "      <td>Acute bronchitis (disorder)</td>\n",
       "      <td>Creatinine</td>\n",
       "      <td>13</td>\n",
       "      <td>1.392308</td>\n",
       "    </tr>\n",
       "    <tr>\n",
       "      <th>83</th>\n",
       "      <td>Viral sinusitis (disorder)</td>\n",
       "      <td>Creatinine</td>\n",
       "      <td>41</td>\n",
       "      <td>0.990244</td>\n",
       "    </tr>\n",
       "    <tr>\n",
       "      <th>47</th>\n",
       "      <td>Acute viral pharyngitis (disorder)</td>\n",
       "      <td>Diastolic Blood Pressure</td>\n",
       "      <td>38</td>\n",
       "      <td>79.973684</td>\n",
       "    </tr>\n",
       "    <tr>\n",
       "      <th>8</th>\n",
       "      <td>Acute bronchitis (disorder)</td>\n",
       "      <td>Diastolic Blood Pressure</td>\n",
       "      <td>62</td>\n",
       "      <td>80.064516</td>\n",
       "    </tr>\n",
       "    <tr>\n",
       "      <th>84</th>\n",
       "      <td>Viral sinusitis (disorder)</td>\n",
       "      <td>Diastolic Blood Pressure</td>\n",
       "      <td>143</td>\n",
       "      <td>80.517483</td>\n",
       "    </tr>\n",
       "    <tr>\n",
       "      <th>48</th>\n",
       "      <td>Acute viral pharyngitis (disorder)</td>\n",
       "      <td>Erythrocyte distribution width [Entitic volume] by Automated count</td>\n",
       "      <td>2</td>\n",
       "      <td>40.800000</td>\n",
       "    </tr>\n",
       "    <tr>\n",
       "      <th>85</th>\n",
       "      <td>Viral sinusitis (disorder)</td>\n",
       "      <td>Erythrocyte distribution width [Entitic volume] by Automated count</td>\n",
       "      <td>12</td>\n",
       "      <td>41.450000</td>\n",
       "    </tr>\n",
       "    <tr>\n",
       "      <th>9</th>\n",
       "      <td>Acute bronchitis (disorder)</td>\n",
       "      <td>Erythrocyte distribution width [Entitic volume] by Automated count</td>\n",
       "      <td>7</td>\n",
       "      <td>42.971429</td>\n",
       "    </tr>\n",
       "    <tr>\n",
       "      <th>86</th>\n",
       "      <td>Viral sinusitis (disorder)</td>\n",
       "      <td>Erythrocytes [#/volume] in Blood by Automated count</td>\n",
       "      <td>12</td>\n",
       "      <td>4.733333</td>\n",
       "    </tr>\n",
       "    <tr>\n",
       "      <th>49</th>\n",
       "      <td>Acute viral pharyngitis (disorder)</td>\n",
       "      <td>Erythrocytes [#/volume] in Blood by Automated count</td>\n",
       "      <td>2</td>\n",
       "      <td>5.150000</td>\n",
       "    </tr>\n",
       "    <tr>\n",
       "      <th>10</th>\n",
       "      <td>Acute bronchitis (disorder)</td>\n",
       "      <td>Erythrocytes [#/volume] in Blood by Automated count</td>\n",
       "      <td>7</td>\n",
       "      <td>4.314286</td>\n",
       "    </tr>\n",
       "    <tr>\n",
       "      <th>87</th>\n",
       "      <td>Viral sinusitis (disorder)</td>\n",
       "      <td>Estimated Glomerular Filtration Rate</td>\n",
       "      <td>12</td>\n",
       "      <td>114.416667</td>\n",
       "    </tr>\n",
       "    <tr>\n",
       "      <th>50</th>\n",
       "      <td>Acute viral pharyngitis (disorder)</td>\n",
       "      <td>Estimated Glomerular Filtration Rate</td>\n",
       "      <td>3</td>\n",
       "      <td>49.366667</td>\n",
       "    </tr>\n",
       "    <tr>\n",
       "      <th>11</th>\n",
       "      <td>Acute bronchitis (disorder)</td>\n",
       "      <td>Estimated Glomerular Filtration Rate</td>\n",
       "      <td>4</td>\n",
       "      <td>31.325000</td>\n",
       "    </tr>\n",
       "    <tr>\n",
       "      <th>88</th>\n",
       "      <td>Viral sinusitis (disorder)</td>\n",
       "      <td>FEV1/FVC</td>\n",
       "      <td>5</td>\n",
       "      <td>42.840000</td>\n",
       "    </tr>\n",
       "    <tr>\n",
       "      <th>89</th>\n",
       "      <td>Viral sinusitis (disorder)</td>\n",
       "      <td>Glucose</td>\n",
       "      <td>41</td>\n",
       "      <td>88.056098</td>\n",
       "    </tr>\n",
       "    <tr>\n",
       "      <th>51</th>\n",
       "      <td>Acute viral pharyngitis (disorder)</td>\n",
       "      <td>Glucose</td>\n",
       "      <td>7</td>\n",
       "      <td>89.185714</td>\n",
       "    </tr>\n",
       "    <tr>\n",
       "      <th>12</th>\n",
       "      <td>Acute bronchitis (disorder)</td>\n",
       "      <td>Glucose</td>\n",
       "      <td>13</td>\n",
       "      <td>89.684615</td>\n",
       "    </tr>\n",
       "    <tr>\n",
       "      <th>90</th>\n",
       "      <td>Viral sinusitis (disorder)</td>\n",
       "      <td>Head Occipital-frontal circumference</td>\n",
       "      <td>9</td>\n",
       "      <td>47.400000</td>\n",
       "    </tr>\n",
       "    <tr>\n",
       "      <th>52</th>\n",
       "      <td>Acute viral pharyngitis (disorder)</td>\n",
       "      <td>Head Occipital-frontal circumference</td>\n",
       "      <td>4</td>\n",
       "      <td>44.800000</td>\n",
       "    </tr>\n",
       "    <tr>\n",
       "      <th>13</th>\n",
       "      <td>Acute bronchitis (disorder)</td>\n",
       "      <td>Head Occipital-frontal circumference</td>\n",
       "      <td>3</td>\n",
       "      <td>44.733333</td>\n",
       "    </tr>\n",
       "    <tr>\n",
       "      <th>53</th>\n",
       "      <td>Acute viral pharyngitis (disorder)</td>\n",
       "      <td>Heart rate</td>\n",
       "      <td>38</td>\n",
       "      <td>77.947368</td>\n",
       "    </tr>\n",
       "    <tr>\n",
       "      <th>91</th>\n",
       "      <td>Viral sinusitis (disorder)</td>\n",
       "      <td>Heart rate</td>\n",
       "      <td>143</td>\n",
       "      <td>79.524476</td>\n",
       "    </tr>\n",
       "    <tr>\n",
       "      <th>14</th>\n",
       "      <td>Acute bronchitis (disorder)</td>\n",
       "      <td>Heart rate</td>\n",
       "      <td>62</td>\n",
       "      <td>80.241935</td>\n",
       "    </tr>\n",
       "    <tr>\n",
       "      <th>15</th>\n",
       "      <td>Acute bronchitis (disorder)</td>\n",
       "      <td>Hematocrit [Volume Fraction] of Blood by Automated count</td>\n",
       "      <td>7</td>\n",
       "      <td>40.900000</td>\n",
       "    </tr>\n",
       "    <tr>\n",
       "      <th>92</th>\n",
       "      <td>Viral sinusitis (disorder)</td>\n",
       "      <td>Hematocrit [Volume Fraction] of Blood by Automated count</td>\n",
       "      <td>12</td>\n",
       "      <td>42.041667</td>\n",
       "    </tr>\n",
       "    <tr>\n",
       "      <th>54</th>\n",
       "      <td>Acute viral pharyngitis (disorder)</td>\n",
       "      <td>Hematocrit [Volume Fraction] of Blood by Automated count</td>\n",
       "      <td>2</td>\n",
       "      <td>44.100000</td>\n",
       "    </tr>\n",
       "    <tr>\n",
       "      <th>93</th>\n",
       "      <td>Viral sinusitis (disorder)</td>\n",
       "      <td>Hemoglobin A1c/Hemoglobin.total in Blood</td>\n",
       "      <td>40</td>\n",
       "      <td>5.985000</td>\n",
       "    </tr>\n",
       "    <tr>\n",
       "      <th>55</th>\n",
       "      <td>Acute viral pharyngitis (disorder)</td>\n",
       "      <td>Hemoglobin A1c/Hemoglobin.total in Blood</td>\n",
       "      <td>7</td>\n",
       "      <td>5.428571</td>\n",
       "    </tr>\n",
       "    <tr>\n",
       "      <th>16</th>\n",
       "      <td>Acute bronchitis (disorder)</td>\n",
       "      <td>Hemoglobin A1c/Hemoglobin.total in Blood</td>\n",
       "      <td>13</td>\n",
       "      <td>5.361538</td>\n",
       "    </tr>\n",
       "    <tr>\n",
       "      <th>94</th>\n",
       "      <td>Viral sinusitis (disorder)</td>\n",
       "      <td>Hemoglobin [Mass/volume] in Blood</td>\n",
       "      <td>12</td>\n",
       "      <td>14.358333</td>\n",
       "    </tr>\n",
       "    <tr>\n",
       "      <th>56</th>\n",
       "      <td>Acute viral pharyngitis (disorder)</td>\n",
       "      <td>Hemoglobin [Mass/volume] in Blood</td>\n",
       "      <td>2</td>\n",
       "      <td>14.900000</td>\n",
       "    </tr>\n",
       "    <tr>\n",
       "      <th>17</th>\n",
       "      <td>Acute bronchitis (disorder)</td>\n",
       "      <td>Hemoglobin [Mass/volume] in Blood</td>\n",
       "      <td>7</td>\n",
       "      <td>14.700000</td>\n",
       "    </tr>\n",
       "    <tr>\n",
       "      <th>57</th>\n",
       "      <td>Acute viral pharyngitis (disorder)</td>\n",
       "      <td>High Density Lipoprotein Cholesterol</td>\n",
       "      <td>6</td>\n",
       "      <td>65.283333</td>\n",
       "    </tr>\n",
       "    <tr>\n",
       "      <th>95</th>\n",
       "      <td>Viral sinusitis (disorder)</td>\n",
       "      <td>High Density Lipoprotein Cholesterol</td>\n",
       "      <td>19</td>\n",
       "      <td>64.594737</td>\n",
       "    </tr>\n",
       "    <tr>\n",
       "      <th>18</th>\n",
       "      <td>Acute bronchitis (disorder)</td>\n",
       "      <td>High Density Lipoprotein Cholesterol</td>\n",
       "      <td>8</td>\n",
       "      <td>62.925000</td>\n",
       "    </tr>\n",
       "    <tr>\n",
       "      <th>19</th>\n",
       "      <td>Acute bronchitis (disorder)</td>\n",
       "      <td>History of Hospitalizations+Outpatient visits</td>\n",
       "      <td>1</td>\n",
       "      <td>1.900000</td>\n",
       "    </tr>\n",
       "    <tr>\n",
       "      <th>20</th>\n",
       "      <td>Acute bronchitis (disorder)</td>\n",
       "      <td>Leukocytes [#/volume] in Blood by Automated count</td>\n",
       "      <td>7</td>\n",
       "      <td>6.785714</td>\n",
       "    </tr>\n",
       "    <tr>\n",
       "      <th>58</th>\n",
       "      <td>Acute viral pharyngitis (disorder)</td>\n",
       "      <td>Leukocytes [#/volume] in Blood by Automated count</td>\n",
       "      <td>2</td>\n",
       "      <td>10.000000</td>\n",
       "    </tr>\n",
       "    <tr>\n",
       "      <th>96</th>\n",
       "      <td>Viral sinusitis (disorder)</td>\n",
       "      <td>Leukocytes [#/volume] in Blood by Automated count</td>\n",
       "      <td>12</td>\n",
       "      <td>6.491667</td>\n",
       "    </tr>\n",
       "    <tr>\n",
       "      <th>59</th>\n",
       "      <td>Acute viral pharyngitis (disorder)</td>\n",
       "      <td>Low Density Lipoprotein Cholesterol</td>\n",
       "      <td>6</td>\n",
       "      <td>94.333333</td>\n",
       "    </tr>\n",
       "    <tr>\n",
       "      <th>97</th>\n",
       "      <td>Viral sinusitis (disorder)</td>\n",
       "      <td>Low Density Lipoprotein Cholesterol</td>\n",
       "      <td>19</td>\n",
       "      <td>93.100000</td>\n",
       "    </tr>\n",
       "    <tr>\n",
       "      <th>21</th>\n",
       "      <td>Acute bronchitis (disorder)</td>\n",
       "      <td>Low Density Lipoprotein Cholesterol</td>\n",
       "      <td>8</td>\n",
       "      <td>101.525000</td>\n",
       "    </tr>\n",
       "    <tr>\n",
       "      <th>98</th>\n",
       "      <td>Viral sinusitis (disorder)</td>\n",
       "      <td>MCH [Entitic mass] by Automated count</td>\n",
       "      <td>12</td>\n",
       "      <td>29.133333</td>\n",
       "    </tr>\n",
       "    <tr>\n",
       "      <th>22</th>\n",
       "      <td>Acute bronchitis (disorder)</td>\n",
       "      <td>MCH [Entitic mass] by Automated count</td>\n",
       "      <td>7</td>\n",
       "      <td>30.342857</td>\n",
       "    </tr>\n",
       "    <tr>\n",
       "      <th>60</th>\n",
       "      <td>Acute viral pharyngitis (disorder)</td>\n",
       "      <td>MCH [Entitic mass] by Automated count</td>\n",
       "      <td>2</td>\n",
       "      <td>30.500000</td>\n",
       "    </tr>\n",
       "    <tr>\n",
       "      <th>61</th>\n",
       "      <td>Acute viral pharyngitis (disorder)</td>\n",
       "      <td>MCHC [Mass/volume] by Automated count</td>\n",
       "      <td>2</td>\n",
       "      <td>35.300000</td>\n",
       "    </tr>\n",
       "    <tr>\n",
       "      <th>99</th>\n",
       "      <td>Viral sinusitis (disorder)</td>\n",
       "      <td>MCHC [Mass/volume] by Automated count</td>\n",
       "      <td>12</td>\n",
       "      <td>34.525000</td>\n",
       "    </tr>\n",
       "    <tr>\n",
       "      <th>23</th>\n",
       "      <td>Acute bronchitis (disorder)</td>\n",
       "      <td>MCHC [Mass/volume] by Automated count</td>\n",
       "      <td>7</td>\n",
       "      <td>34.371429</td>\n",
       "    </tr>\n",
       "    <tr>\n",
       "      <th>24</th>\n",
       "      <td>Acute bronchitis (disorder)</td>\n",
       "      <td>MCV [Entitic volume] by Automated count</td>\n",
       "      <td>7</td>\n",
       "      <td>88.371429</td>\n",
       "    </tr>\n",
       "    <tr>\n",
       "      <th>100</th>\n",
       "      <td>Viral sinusitis (disorder)</td>\n",
       "      <td>MCV [Entitic volume] by Automated count</td>\n",
       "      <td>12</td>\n",
       "      <td>87.150000</td>\n",
       "    </tr>\n",
       "    <tr>\n",
       "      <th>62</th>\n",
       "      <td>Acute viral pharyngitis (disorder)</td>\n",
       "      <td>MCV [Entitic volume] by Automated count</td>\n",
       "      <td>2</td>\n",
       "      <td>83.000000</td>\n",
       "    </tr>\n",
       "    <tr>\n",
       "      <th>63</th>\n",
       "      <td>Acute viral pharyngitis (disorder)</td>\n",
       "      <td>Microalbumin Creatinine Ratio</td>\n",
       "      <td>3</td>\n",
       "      <td>102.166667</td>\n",
       "    </tr>\n",
       "    <tr>\n",
       "      <th>25</th>\n",
       "      <td>Acute bronchitis (disorder)</td>\n",
       "      <td>Microalbumin Creatinine Ratio</td>\n",
       "      <td>4</td>\n",
       "      <td>81.525000</td>\n",
       "    </tr>\n",
       "    <tr>\n",
       "      <th>101</th>\n",
       "      <td>Viral sinusitis (disorder)</td>\n",
       "      <td>Microalbumin Creatinine Ratio</td>\n",
       "      <td>12</td>\n",
       "      <td>26.016667</td>\n",
       "    </tr>\n",
       "    <tr>\n",
       "      <th>102</th>\n",
       "      <td>Viral sinusitis (disorder)</td>\n",
       "      <td>Pain severity - 0-10 verbal numeric rating [Score] - Reported</td>\n",
       "      <td>143</td>\n",
       "      <td>1.902098</td>\n",
       "    </tr>\n",
       "    <tr>\n",
       "      <th>64</th>\n",
       "      <td>Acute viral pharyngitis (disorder)</td>\n",
       "      <td>Pain severity - 0-10 verbal numeric rating [Score] - Reported</td>\n",
       "      <td>38</td>\n",
       "      <td>1.842105</td>\n",
       "    </tr>\n",
       "    <tr>\n",
       "      <th>26</th>\n",
       "      <td>Acute bronchitis (disorder)</td>\n",
       "      <td>Pain severity - 0-10 verbal numeric rating [Score] - Reported</td>\n",
       "      <td>62</td>\n",
       "      <td>2.338710</td>\n",
       "    </tr>\n",
       "    <tr>\n",
       "      <th>103</th>\n",
       "      <td>Viral sinusitis (disorder)</td>\n",
       "      <td>Platelet distribution width [Entitic volume] in Blood by Automated count</td>\n",
       "      <td>12</td>\n",
       "      <td>373.425000</td>\n",
       "    </tr>\n",
       "    <tr>\n",
       "      <th>65</th>\n",
       "      <td>Acute viral pharyngitis (disorder)</td>\n",
       "      <td>Platelet distribution width [Entitic volume] in Blood by Automated count</td>\n",
       "      <td>2</td>\n",
       "      <td>478.350000</td>\n",
       "    </tr>\n",
       "    <tr>\n",
       "      <th>27</th>\n",
       "      <td>Acute bronchitis (disorder)</td>\n",
       "      <td>Platelet distribution width [Entitic volume] in Blood by Automated count</td>\n",
       "      <td>7</td>\n",
       "      <td>372.442857</td>\n",
       "    </tr>\n",
       "    <tr>\n",
       "      <th>104</th>\n",
       "      <td>Viral sinusitis (disorder)</td>\n",
       "      <td>Platelet mean volume [Entitic volume] in Blood by Automated count</td>\n",
       "      <td>12</td>\n",
       "      <td>10.933333</td>\n",
       "    </tr>\n",
       "    <tr>\n",
       "      <th>66</th>\n",
       "      <td>Acute viral pharyngitis (disorder)</td>\n",
       "      <td>Platelet mean volume [Entitic volume] in Blood by Automated count</td>\n",
       "      <td>2</td>\n",
       "      <td>10.950000</td>\n",
       "    </tr>\n",
       "    <tr>\n",
       "      <th>28</th>\n",
       "      <td>Acute bronchitis (disorder)</td>\n",
       "      <td>Platelet mean volume [Entitic volume] in Blood by Automated count</td>\n",
       "      <td>7</td>\n",
       "      <td>10.828571</td>\n",
       "    </tr>\n",
       "    <tr>\n",
       "      <th>67</th>\n",
       "      <td>Acute viral pharyngitis (disorder)</td>\n",
       "      <td>Platelets [#/volume] in Blood by Automated count</td>\n",
       "      <td>2</td>\n",
       "      <td>231.000000</td>\n",
       "    </tr>\n",
       "    <tr>\n",
       "      <th>29</th>\n",
       "      <td>Acute bronchitis (disorder)</td>\n",
       "      <td>Platelets [#/volume] in Blood by Automated count</td>\n",
       "      <td>7</td>\n",
       "      <td>290.885714</td>\n",
       "    </tr>\n",
       "    <tr>\n",
       "      <th>105</th>\n",
       "      <td>Viral sinusitis (disorder)</td>\n",
       "      <td>Platelets [#/volume] in Blood by Automated count</td>\n",
       "      <td>12</td>\n",
       "      <td>296.075000</td>\n",
       "    </tr>\n",
       "    <tr>\n",
       "      <th>30</th>\n",
       "      <td>Acute bronchitis (disorder)</td>\n",
       "      <td>Potassium</td>\n",
       "      <td>13</td>\n",
       "      <td>4.446154</td>\n",
       "    </tr>\n",
       "    <tr>\n",
       "      <th>106</th>\n",
       "      <td>Viral sinusitis (disorder)</td>\n",
       "      <td>Potassium</td>\n",
       "      <td>41</td>\n",
       "      <td>4.497561</td>\n",
       "    </tr>\n",
       "    <tr>\n",
       "      <th>68</th>\n",
       "      <td>Acute viral pharyngitis (disorder)</td>\n",
       "      <td>Potassium</td>\n",
       "      <td>7</td>\n",
       "      <td>4.785714</td>\n",
       "    </tr>\n",
       "    <tr>\n",
       "      <th>69</th>\n",
       "      <td>Acute viral pharyngitis (disorder)</td>\n",
       "      <td>Respiratory rate</td>\n",
       "      <td>38</td>\n",
       "      <td>14.026316</td>\n",
       "    </tr>\n",
       "    <tr>\n",
       "      <th>107</th>\n",
       "      <td>Viral sinusitis (disorder)</td>\n",
       "      <td>Respiratory rate</td>\n",
       "      <td>143</td>\n",
       "      <td>13.916084</td>\n",
       "    </tr>\n",
       "    <tr>\n",
       "      <th>31</th>\n",
       "      <td>Acute bronchitis (disorder)</td>\n",
       "      <td>Respiratory rate</td>\n",
       "      <td>62</td>\n",
       "      <td>14.241935</td>\n",
       "    </tr>\n",
       "    <tr>\n",
       "      <th>108</th>\n",
       "      <td>Viral sinusitis (disorder)</td>\n",
       "      <td>Sodium</td>\n",
       "      <td>41</td>\n",
       "      <td>140.580488</td>\n",
       "    </tr>\n",
       "    <tr>\n",
       "      <th>70</th>\n",
       "      <td>Acute viral pharyngitis (disorder)</td>\n",
       "      <td>Sodium</td>\n",
       "      <td>7</td>\n",
       "      <td>139.528571</td>\n",
       "    </tr>\n",
       "    <tr>\n",
       "      <th>32</th>\n",
       "      <td>Acute bronchitis (disorder)</td>\n",
       "      <td>Sodium</td>\n",
       "      <td>13</td>\n",
       "      <td>139.407692</td>\n",
       "    </tr>\n",
       "    <tr>\n",
       "      <th>109</th>\n",
       "      <td>Viral sinusitis (disorder)</td>\n",
       "      <td>Systolic Blood Pressure</td>\n",
       "      <td>143</td>\n",
       "      <td>122.146853</td>\n",
       "    </tr>\n",
       "    <tr>\n",
       "      <th>71</th>\n",
       "      <td>Acute viral pharyngitis (disorder)</td>\n",
       "      <td>Systolic Blood Pressure</td>\n",
       "      <td>38</td>\n",
       "      <td>118.289474</td>\n",
       "    </tr>\n",
       "    <tr>\n",
       "      <th>33</th>\n",
       "      <td>Acute bronchitis (disorder)</td>\n",
       "      <td>Systolic Blood Pressure</td>\n",
       "      <td>62</td>\n",
       "      <td>118.870968</td>\n",
       "    </tr>\n",
       "    <tr>\n",
       "      <th>34</th>\n",
       "      <td>Acute bronchitis (disorder)</td>\n",
       "      <td>Total Cholesterol</td>\n",
       "      <td>8</td>\n",
       "      <td>193.900000</td>\n",
       "    </tr>\n",
       "    <tr>\n",
       "      <th>110</th>\n",
       "      <td>Viral sinusitis (disorder)</td>\n",
       "      <td>Total Cholesterol</td>\n",
       "      <td>19</td>\n",
       "      <td>185.268421</td>\n",
       "    </tr>\n",
       "    <tr>\n",
       "      <th>72</th>\n",
       "      <td>Acute viral pharyngitis (disorder)</td>\n",
       "      <td>Total Cholesterol</td>\n",
       "      <td>6</td>\n",
       "      <td>187.583333</td>\n",
       "    </tr>\n",
       "    <tr>\n",
       "      <th>35</th>\n",
       "      <td>Acute bronchitis (disorder)</td>\n",
       "      <td>Triglycerides</td>\n",
       "      <td>8</td>\n",
       "      <td>147.312500</td>\n",
       "    </tr>\n",
       "    <tr>\n",
       "      <th>111</th>\n",
       "      <td>Viral sinusitis (disorder)</td>\n",
       "      <td>Triglycerides</td>\n",
       "      <td>19</td>\n",
       "      <td>137.942105</td>\n",
       "    </tr>\n",
       "    <tr>\n",
       "      <th>73</th>\n",
       "      <td>Acute viral pharyngitis (disorder)</td>\n",
       "      <td>Triglycerides</td>\n",
       "      <td>6</td>\n",
       "      <td>139.783333</td>\n",
       "    </tr>\n",
       "    <tr>\n",
       "      <th>36</th>\n",
       "      <td>Acute bronchitis (disorder)</td>\n",
       "      <td>Urea Nitrogen</td>\n",
       "      <td>13</td>\n",
       "      <td>12.861538</td>\n",
       "    </tr>\n",
       "    <tr>\n",
       "      <th>74</th>\n",
       "      <td>Acute viral pharyngitis (disorder)</td>\n",
       "      <td>Urea Nitrogen</td>\n",
       "      <td>7</td>\n",
       "      <td>13.414286</td>\n",
       "    </tr>\n",
       "    <tr>\n",
       "      <th>112</th>\n",
       "      <td>Viral sinusitis (disorder)</td>\n",
       "      <td>Urea Nitrogen</td>\n",
       "      <td>41</td>\n",
       "      <td>13.473171</td>\n",
       "    </tr>\n",
       "    <tr>\n",
       "      <th>75</th>\n",
       "      <td>Acute viral pharyngitis (disorder)</td>\n",
       "      <td>Weight-for-length Per age and sex</td>\n",
       "      <td>4</td>\n",
       "      <td>42.025000</td>\n",
       "    </tr>\n",
       "    <tr>\n",
       "      <th>37</th>\n",
       "      <td>Acute bronchitis (disorder)</td>\n",
       "      <td>Weight-for-length Per age and sex</td>\n",
       "      <td>3</td>\n",
       "      <td>35.166667</td>\n",
       "    </tr>\n",
       "    <tr>\n",
       "      <th>113</th>\n",
       "      <td>Viral sinusitis (disorder)</td>\n",
       "      <td>Weight-for-length Per age and sex</td>\n",
       "      <td>9</td>\n",
       "      <td>71.300000</td>\n",
       "    </tr>\n",
       "  </tbody>\n",
       "</table>\n",
       "</div>"
      ],
      "text/plain": [
       "                  DESCRIPTION_condition  \\\n",
       "0           Acute bronchitis (disorder)   \n",
       "76           Viral sinusitis (disorder)   \n",
       "38   Acute viral pharyngitis (disorder)   \n",
       "1           Acute bronchitis (disorder)   \n",
       "77           Viral sinusitis (disorder)   \n",
       "39   Acute viral pharyngitis (disorder)   \n",
       "2           Acute bronchitis (disorder)   \n",
       "78           Viral sinusitis (disorder)   \n",
       "40   Acute viral pharyngitis (disorder)   \n",
       "3           Acute bronchitis (disorder)   \n",
       "79           Viral sinusitis (disorder)   \n",
       "41   Acute viral pharyngitis (disorder)   \n",
       "42   Acute viral pharyngitis (disorder)   \n",
       "80           Viral sinusitis (disorder)   \n",
       "43   Acute viral pharyngitis (disorder)   \n",
       "4           Acute bronchitis (disorder)   \n",
       "44   Acute viral pharyngitis (disorder)   \n",
       "5           Acute bronchitis (disorder)   \n",
       "81           Viral sinusitis (disorder)   \n",
       "45   Acute viral pharyngitis (disorder)   \n",
       "6           Acute bronchitis (disorder)   \n",
       "82           Viral sinusitis (disorder)   \n",
       "46   Acute viral pharyngitis (disorder)   \n",
       "7           Acute bronchitis (disorder)   \n",
       "83           Viral sinusitis (disorder)   \n",
       "47   Acute viral pharyngitis (disorder)   \n",
       "8           Acute bronchitis (disorder)   \n",
       "84           Viral sinusitis (disorder)   \n",
       "48   Acute viral pharyngitis (disorder)   \n",
       "85           Viral sinusitis (disorder)   \n",
       "9           Acute bronchitis (disorder)   \n",
       "86           Viral sinusitis (disorder)   \n",
       "49   Acute viral pharyngitis (disorder)   \n",
       "10          Acute bronchitis (disorder)   \n",
       "87           Viral sinusitis (disorder)   \n",
       "50   Acute viral pharyngitis (disorder)   \n",
       "11          Acute bronchitis (disorder)   \n",
       "88           Viral sinusitis (disorder)   \n",
       "89           Viral sinusitis (disorder)   \n",
       "51   Acute viral pharyngitis (disorder)   \n",
       "12          Acute bronchitis (disorder)   \n",
       "90           Viral sinusitis (disorder)   \n",
       "52   Acute viral pharyngitis (disorder)   \n",
       "13          Acute bronchitis (disorder)   \n",
       "53   Acute viral pharyngitis (disorder)   \n",
       "91           Viral sinusitis (disorder)   \n",
       "14          Acute bronchitis (disorder)   \n",
       "15          Acute bronchitis (disorder)   \n",
       "92           Viral sinusitis (disorder)   \n",
       "54   Acute viral pharyngitis (disorder)   \n",
       "93           Viral sinusitis (disorder)   \n",
       "55   Acute viral pharyngitis (disorder)   \n",
       "16          Acute bronchitis (disorder)   \n",
       "94           Viral sinusitis (disorder)   \n",
       "56   Acute viral pharyngitis (disorder)   \n",
       "17          Acute bronchitis (disorder)   \n",
       "57   Acute viral pharyngitis (disorder)   \n",
       "95           Viral sinusitis (disorder)   \n",
       "18          Acute bronchitis (disorder)   \n",
       "19          Acute bronchitis (disorder)   \n",
       "20          Acute bronchitis (disorder)   \n",
       "58   Acute viral pharyngitis (disorder)   \n",
       "96           Viral sinusitis (disorder)   \n",
       "59   Acute viral pharyngitis (disorder)   \n",
       "97           Viral sinusitis (disorder)   \n",
       "21          Acute bronchitis (disorder)   \n",
       "98           Viral sinusitis (disorder)   \n",
       "22          Acute bronchitis (disorder)   \n",
       "60   Acute viral pharyngitis (disorder)   \n",
       "61   Acute viral pharyngitis (disorder)   \n",
       "99           Viral sinusitis (disorder)   \n",
       "23          Acute bronchitis (disorder)   \n",
       "24          Acute bronchitis (disorder)   \n",
       "100          Viral sinusitis (disorder)   \n",
       "62   Acute viral pharyngitis (disorder)   \n",
       "63   Acute viral pharyngitis (disorder)   \n",
       "25          Acute bronchitis (disorder)   \n",
       "101          Viral sinusitis (disorder)   \n",
       "102          Viral sinusitis (disorder)   \n",
       "64   Acute viral pharyngitis (disorder)   \n",
       "26          Acute bronchitis (disorder)   \n",
       "103          Viral sinusitis (disorder)   \n",
       "65   Acute viral pharyngitis (disorder)   \n",
       "27          Acute bronchitis (disorder)   \n",
       "104          Viral sinusitis (disorder)   \n",
       "66   Acute viral pharyngitis (disorder)   \n",
       "28          Acute bronchitis (disorder)   \n",
       "67   Acute viral pharyngitis (disorder)   \n",
       "29          Acute bronchitis (disorder)   \n",
       "105          Viral sinusitis (disorder)   \n",
       "30          Acute bronchitis (disorder)   \n",
       "106          Viral sinusitis (disorder)   \n",
       "68   Acute viral pharyngitis (disorder)   \n",
       "69   Acute viral pharyngitis (disorder)   \n",
       "107          Viral sinusitis (disorder)   \n",
       "31          Acute bronchitis (disorder)   \n",
       "108          Viral sinusitis (disorder)   \n",
       "70   Acute viral pharyngitis (disorder)   \n",
       "32          Acute bronchitis (disorder)   \n",
       "109          Viral sinusitis (disorder)   \n",
       "71   Acute viral pharyngitis (disorder)   \n",
       "33          Acute bronchitis (disorder)   \n",
       "34          Acute bronchitis (disorder)   \n",
       "110          Viral sinusitis (disorder)   \n",
       "72   Acute viral pharyngitis (disorder)   \n",
       "35          Acute bronchitis (disorder)   \n",
       "111          Viral sinusitis (disorder)   \n",
       "73   Acute viral pharyngitis (disorder)   \n",
       "36          Acute bronchitis (disorder)   \n",
       "74   Acute viral pharyngitis (disorder)   \n",
       "112          Viral sinusitis (disorder)   \n",
       "75   Acute viral pharyngitis (disorder)   \n",
       "37          Acute bronchitis (disorder)   \n",
       "113          Viral sinusitis (disorder)   \n",
       "\n",
       "                                                      DESCRIPTION_observation  \\\n",
       "0                                                                 Body Height   \n",
       "76                                                                Body Height   \n",
       "38                                                                Body Height   \n",
       "1                                                             Body Mass Index   \n",
       "77                                                            Body Mass Index   \n",
       "39                                                            Body Mass Index   \n",
       "2                                                                 Body Weight   \n",
       "78                                                                Body Weight   \n",
       "40                                                                Body Weight   \n",
       "3                       Body mass index (BMI) [Percentile] Per age and gender   \n",
       "79                      Body mass index (BMI) [Percentile] Per age and gender   \n",
       "41                      Body mass index (BMI) [Percentile] Per age and gender   \n",
       "42                                                           Body temperature   \n",
       "80                                                                    Calcium   \n",
       "43                                                                    Calcium   \n",
       "4                                                                     Calcium   \n",
       "44                                                             Carbon Dioxide   \n",
       "5                                                              Carbon Dioxide   \n",
       "81                                                             Carbon Dioxide   \n",
       "45                                                                   Chloride   \n",
       "6                                                                    Chloride   \n",
       "82                                                                   Chloride   \n",
       "46                                                                 Creatinine   \n",
       "7                                                                  Creatinine   \n",
       "83                                                                 Creatinine   \n",
       "47                                                   Diastolic Blood Pressure   \n",
       "8                                                    Diastolic Blood Pressure   \n",
       "84                                                   Diastolic Blood Pressure   \n",
       "48         Erythrocyte distribution width [Entitic volume] by Automated count   \n",
       "85         Erythrocyte distribution width [Entitic volume] by Automated count   \n",
       "9          Erythrocyte distribution width [Entitic volume] by Automated count   \n",
       "86                        Erythrocytes [#/volume] in Blood by Automated count   \n",
       "49                        Erythrocytes [#/volume] in Blood by Automated count   \n",
       "10                        Erythrocytes [#/volume] in Blood by Automated count   \n",
       "87                                       Estimated Glomerular Filtration Rate   \n",
       "50                                       Estimated Glomerular Filtration Rate   \n",
       "11                                       Estimated Glomerular Filtration Rate   \n",
       "88                                                                   FEV1/FVC   \n",
       "89                                                                    Glucose   \n",
       "51                                                                    Glucose   \n",
       "12                                                                    Glucose   \n",
       "90                                       Head Occipital-frontal circumference   \n",
       "52                                       Head Occipital-frontal circumference   \n",
       "13                                       Head Occipital-frontal circumference   \n",
       "53                                                                 Heart rate   \n",
       "91                                                                 Heart rate   \n",
       "14                                                                 Heart rate   \n",
       "15                   Hematocrit [Volume Fraction] of Blood by Automated count   \n",
       "92                   Hematocrit [Volume Fraction] of Blood by Automated count   \n",
       "54                   Hematocrit [Volume Fraction] of Blood by Automated count   \n",
       "93                                   Hemoglobin A1c/Hemoglobin.total in Blood   \n",
       "55                                   Hemoglobin A1c/Hemoglobin.total in Blood   \n",
       "16                                   Hemoglobin A1c/Hemoglobin.total in Blood   \n",
       "94                                          Hemoglobin [Mass/volume] in Blood   \n",
       "56                                          Hemoglobin [Mass/volume] in Blood   \n",
       "17                                          Hemoglobin [Mass/volume] in Blood   \n",
       "57                                       High Density Lipoprotein Cholesterol   \n",
       "95                                       High Density Lipoprotein Cholesterol   \n",
       "18                                       High Density Lipoprotein Cholesterol   \n",
       "19                              History of Hospitalizations+Outpatient visits   \n",
       "20                          Leukocytes [#/volume] in Blood by Automated count   \n",
       "58                          Leukocytes [#/volume] in Blood by Automated count   \n",
       "96                          Leukocytes [#/volume] in Blood by Automated count   \n",
       "59                                        Low Density Lipoprotein Cholesterol   \n",
       "97                                        Low Density Lipoprotein Cholesterol   \n",
       "21                                        Low Density Lipoprotein Cholesterol   \n",
       "98                                      MCH [Entitic mass] by Automated count   \n",
       "22                                      MCH [Entitic mass] by Automated count   \n",
       "60                                      MCH [Entitic mass] by Automated count   \n",
       "61                                      MCHC [Mass/volume] by Automated count   \n",
       "99                                      MCHC [Mass/volume] by Automated count   \n",
       "23                                      MCHC [Mass/volume] by Automated count   \n",
       "24                                    MCV [Entitic volume] by Automated count   \n",
       "100                                   MCV [Entitic volume] by Automated count   \n",
       "62                                    MCV [Entitic volume] by Automated count   \n",
       "63                                              Microalbumin Creatinine Ratio   \n",
       "25                                              Microalbumin Creatinine Ratio   \n",
       "101                                             Microalbumin Creatinine Ratio   \n",
       "102             Pain severity - 0-10 verbal numeric rating [Score] - Reported   \n",
       "64              Pain severity - 0-10 verbal numeric rating [Score] - Reported   \n",
       "26              Pain severity - 0-10 verbal numeric rating [Score] - Reported   \n",
       "103  Platelet distribution width [Entitic volume] in Blood by Automated count   \n",
       "65   Platelet distribution width [Entitic volume] in Blood by Automated count   \n",
       "27   Platelet distribution width [Entitic volume] in Blood by Automated count   \n",
       "104         Platelet mean volume [Entitic volume] in Blood by Automated count   \n",
       "66          Platelet mean volume [Entitic volume] in Blood by Automated count   \n",
       "28          Platelet mean volume [Entitic volume] in Blood by Automated count   \n",
       "67                           Platelets [#/volume] in Blood by Automated count   \n",
       "29                           Platelets [#/volume] in Blood by Automated count   \n",
       "105                          Platelets [#/volume] in Blood by Automated count   \n",
       "30                                                                  Potassium   \n",
       "106                                                                 Potassium   \n",
       "68                                                                  Potassium   \n",
       "69                                                           Respiratory rate   \n",
       "107                                                          Respiratory rate   \n",
       "31                                                           Respiratory rate   \n",
       "108                                                                    Sodium   \n",
       "70                                                                     Sodium   \n",
       "32                                                                     Sodium   \n",
       "109                                                   Systolic Blood Pressure   \n",
       "71                                                    Systolic Blood Pressure   \n",
       "33                                                    Systolic Blood Pressure   \n",
       "34                                                          Total Cholesterol   \n",
       "110                                                         Total Cholesterol   \n",
       "72                                                          Total Cholesterol   \n",
       "35                                                              Triglycerides   \n",
       "111                                                             Triglycerides   \n",
       "73                                                              Triglycerides   \n",
       "36                                                              Urea Nitrogen   \n",
       "74                                                              Urea Nitrogen   \n",
       "112                                                             Urea Nitrogen   \n",
       "75                                          Weight-for-length Per age and sex   \n",
       "37                                          Weight-for-length Per age and sex   \n",
       "113                                         Weight-for-length Per age and sex   \n",
       "\n",
       "     observations_count   value_avg  \n",
       "0                    62  156.969355  \n",
       "76                  143  158.635664  \n",
       "38                   38  157.036842  \n",
       "1                    61   24.944262  \n",
       "77                  139   26.152518  \n",
       "39                   35   26.637143  \n",
       "2                    62   65.650000  \n",
       "78                  143   69.120280  \n",
       "40                   38   68.405263  \n",
       "3                    22   56.090909  \n",
       "79                   35   61.277143  \n",
       "41                    9   77.444444  \n",
       "42                  645   37.484341  \n",
       "80                   41    9.436585  \n",
       "43                    7    9.285714  \n",
       "4                    13    9.153846  \n",
       "44                    7   23.071429  \n",
       "5                    13   24.407692  \n",
       "81                   41   24.007317  \n",
       "45                    7  107.814286  \n",
       "6                    13  107.046154  \n",
       "82                   41  105.943902  \n",
       "46                    7    1.600000  \n",
       "7                    13    1.392308  \n",
       "83                   41    0.990244  \n",
       "47                   38   79.973684  \n",
       "8                    62   80.064516  \n",
       "84                  143   80.517483  \n",
       "48                    2   40.800000  \n",
       "85                   12   41.450000  \n",
       "9                     7   42.971429  \n",
       "86                   12    4.733333  \n",
       "49                    2    5.150000  \n",
       "10                    7    4.314286  \n",
       "87                   12  114.416667  \n",
       "50                    3   49.366667  \n",
       "11                    4   31.325000  \n",
       "88                    5   42.840000  \n",
       "89                   41   88.056098  \n",
       "51                    7   89.185714  \n",
       "12                   13   89.684615  \n",
       "90                    9   47.400000  \n",
       "52                    4   44.800000  \n",
       "13                    3   44.733333  \n",
       "53                   38   77.947368  \n",
       "91                  143   79.524476  \n",
       "14                   62   80.241935  \n",
       "15                    7   40.900000  \n",
       "92                   12   42.041667  \n",
       "54                    2   44.100000  \n",
       "93                   40    5.985000  \n",
       "55                    7    5.428571  \n",
       "16                   13    5.361538  \n",
       "94                   12   14.358333  \n",
       "56                    2   14.900000  \n",
       "17                    7   14.700000  \n",
       "57                    6   65.283333  \n",
       "95                   19   64.594737  \n",
       "18                    8   62.925000  \n",
       "19                    1    1.900000  \n",
       "20                    7    6.785714  \n",
       "58                    2   10.000000  \n",
       "96                   12    6.491667  \n",
       "59                    6   94.333333  \n",
       "97                   19   93.100000  \n",
       "21                    8  101.525000  \n",
       "98                   12   29.133333  \n",
       "22                    7   30.342857  \n",
       "60                    2   30.500000  \n",
       "61                    2   35.300000  \n",
       "99                   12   34.525000  \n",
       "23                    7   34.371429  \n",
       "24                    7   88.371429  \n",
       "100                  12   87.150000  \n",
       "62                    2   83.000000  \n",
       "63                    3  102.166667  \n",
       "25                    4   81.525000  \n",
       "101                  12   26.016667  \n",
       "102                 143    1.902098  \n",
       "64                   38    1.842105  \n",
       "26                   62    2.338710  \n",
       "103                  12  373.425000  \n",
       "65                    2  478.350000  \n",
       "27                    7  372.442857  \n",
       "104                  12   10.933333  \n",
       "66                    2   10.950000  \n",
       "28                    7   10.828571  \n",
       "67                    2  231.000000  \n",
       "29                    7  290.885714  \n",
       "105                  12  296.075000  \n",
       "30                   13    4.446154  \n",
       "106                  41    4.497561  \n",
       "68                    7    4.785714  \n",
       "69                   38   14.026316  \n",
       "107                 143   13.916084  \n",
       "31                   62   14.241935  \n",
       "108                  41  140.580488  \n",
       "70                    7  139.528571  \n",
       "32                   13  139.407692  \n",
       "109                 143  122.146853  \n",
       "71                   38  118.289474  \n",
       "33                   62  118.870968  \n",
       "34                    8  193.900000  \n",
       "110                  19  185.268421  \n",
       "72                    6  187.583333  \n",
       "35                    8  147.312500  \n",
       "111                  19  137.942105  \n",
       "73                    6  139.783333  \n",
       "36                   13   12.861538  \n",
       "74                    7   13.414286  \n",
       "112                  41   13.473171  \n",
       "75                    4   42.025000  \n",
       "37                    3   35.166667  \n",
       "113                   9   71.300000  "
      ]
     },
     "execution_count": 113,
     "metadata": {},
     "output_type": "execute_result"
    }
   ],
   "source": [
    "\n",
    "observations_df = dfs['observations']\n",
    "observations_df.loc[observations_df['TYPE'] == 'numeric', 'VALUE'] = pd.to_numeric(observations_df[observations_df['TYPE'] == 'numeric'][\"VALUE\"])\n",
    "observations_df = observations_df[observations_df['TYPE'] == 'numeric']\n",
    "\n",
    "conditions_df = dfs['conditions'][dfs['conditions']['DESCRIPTION'].isin(list(conditions_agg['DESCRIPTION']))]\n",
    "\n",
    "conditions_observations_df = conditions_df.merge(\n",
    "    observations_df, left_on = 'ENCOUNTER', right_on = 'ENCOUNTER',\n",
    "    suffixes=('_condition', '_observation'))\n",
    "\n",
    "conditions_observations_agg = conditions_observations_df.groupby( [\"DESCRIPTION_condition\", \"DESCRIPTION_observation\"], as_index=False).agg(\n",
    "    observations_count=pd.NamedAgg(column=\"PATIENT_observation\", aggfunc=\"count\"),\n",
    "    value_avg=pd.NamedAgg(column=\"VALUE\", aggfunc=lambda x: x.mean()),\n",
    ")\n",
    "\n",
    "pd.set_option('display.max_rows', conditions_observations_agg.shape[0]+1)\n",
    "conditions_observations_agg.sort_values('DESCRIPTION_observation')"
   ]
  },
  {
   "cell_type": "code",
   "execution_count": 130,
   "id": "4212a50a",
   "metadata": {
    "scrolled": true
   },
   "outputs": [
    {
     "data": {
      "application/vnd.plotly.v1+json": {
       "config": {
        "plotlyServerURL": "https://plot.ly"
       },
       "data": [
        {
         "customdata": [
          62,
          61,
          62,
          22,
          13,
          13,
          13,
          13,
          62,
          7,
          7,
          4,
          13,
          3,
          62,
          7,
          13,
          7,
          8,
          1,
          7,
          8,
          7,
          7,
          7,
          4,
          62,
          7,
          7,
          7,
          13,
          62,
          13,
          62,
          8,
          8,
          13,
          3
         ],
         "hovertemplate": " Value: %{x}<br>Count : %{customdata}",
         "name": "Acute bronchitis (disorder)",
         "orientation": "h",
         "type": "bar",
         "x": [
          156.96935483870968,
          24.94426229508197,
          65.64999999999999,
          56.090909090909115,
          9.153846153846153,
          24.407692307692304,
          107.04615384615386,
          1.3923076923076925,
          80.06451612903226,
          42.971428571428575,
          4.314285714285715,
          31.325,
          89.68461538461537,
          44.73333333333333,
          80.24193548387096,
          40.9,
          5.361538461538462,
          14.700000000000001,
          62.925000000000004,
          1.9,
          6.785714285714285,
          101.525,
          30.342857142857145,
          34.371428571428574,
          88.37142857142855,
          81.52499999999999,
          2.338709677419355,
          372.4428571428571,
          10.828571428571431,
          290.88571428571424,
          4.446153846153846,
          14.241935483870968,
          139.40769230769234,
          118.87096774193549,
          193.9,
          147.3125,
          12.86153846153846,
          35.166666666666664
         ],
         "y": [
          "Body Height",
          "Body Mass Index",
          "Body Weight",
          "Body mass index (BMI) [Percentile] Per age and gender",
          "Calcium",
          "Carbon Dioxide",
          "Chloride",
          "Creatinine",
          "Diastolic Blood Pressure",
          "Erythrocyte distribution width [Entitic volume] by Automated count",
          "Erythrocytes [#/volume] in Blood by Automated count",
          "Estimated Glomerular Filtration Rate",
          "Glucose",
          "Head Occipital-frontal circumference",
          "Heart rate",
          "Hematocrit [Volume Fraction] of Blood by Automated count",
          "Hemoglobin A1c/Hemoglobin.total in Blood",
          "Hemoglobin [Mass/volume] in Blood",
          "High Density Lipoprotein Cholesterol",
          "History of Hospitalizations+Outpatient visits",
          "Leukocytes [#/volume] in Blood by Automated count",
          "Low Density Lipoprotein Cholesterol",
          "MCH [Entitic mass] by Automated count",
          "MCHC [Mass/volume] by Automated count",
          "MCV [Entitic volume] by Automated count",
          "Microalbumin Creatinine Ratio",
          "Pain severity - 0-10 verbal numeric rating [Score] - Reported",
          "Platelet distribution width [Entitic volume] in Blood by Automated count",
          "Platelet mean volume [Entitic volume] in Blood by Automated count",
          "Platelets [#/volume] in Blood by Automated count",
          "Potassium",
          "Respiratory rate",
          "Sodium",
          "Systolic Blood Pressure",
          "Total Cholesterol",
          "Triglycerides",
          "Urea Nitrogen",
          "Weight-for-length Per age and sex"
         ]
        },
        {
         "customdata": [
          38,
          35,
          38,
          9,
          645,
          7,
          7,
          7,
          7,
          38,
          2,
          2,
          3,
          7,
          4,
          38,
          2,
          7,
          2,
          6,
          2,
          6,
          2,
          2,
          2,
          3,
          38,
          2,
          2,
          2,
          7,
          38,
          7,
          38,
          6,
          6,
          7,
          4
         ],
         "hovertemplate": " Value: %{x}<br>Count : %{customdata}",
         "name": "Acute viral pharyngitis (disorder)",
         "orientation": "h",
         "type": "bar",
         "x": [
          157.0368421052632,
          26.63714285714285,
          68.40526315789472,
          77.44444444444443,
          37.484341085271346,
          9.285714285714286,
          23.071428571428573,
          107.81428571428572,
          1.5999999999999999,
          79.97368421052632,
          40.8,
          5.15,
          49.36666666666667,
          89.1857142857143,
          44.800000000000004,
          77.94736842105263,
          44.1,
          5.428571428571429,
          14.9,
          65.28333333333333,
          10,
          94.33333333333333,
          30.5,
          35.3,
          83,
          102.16666666666667,
          1.8421052631578947,
          478.35,
          10.95,
          231,
          4.785714285714286,
          14.026315789473685,
          139.5285714285714,
          118.28947368421052,
          187.58333333333334,
          139.78333333333333,
          13.414285714285715,
          42.025
         ],
         "y": [
          "Body Height",
          "Body Mass Index",
          "Body Weight",
          "Body mass index (BMI) [Percentile] Per age and gender",
          "Body temperature",
          "Calcium",
          "Carbon Dioxide",
          "Chloride",
          "Creatinine",
          "Diastolic Blood Pressure",
          "Erythrocyte distribution width [Entitic volume] by Automated count",
          "Erythrocytes [#/volume] in Blood by Automated count",
          "Estimated Glomerular Filtration Rate",
          "Glucose",
          "Head Occipital-frontal circumference",
          "Heart rate",
          "Hematocrit [Volume Fraction] of Blood by Automated count",
          "Hemoglobin A1c/Hemoglobin.total in Blood",
          "Hemoglobin [Mass/volume] in Blood",
          "High Density Lipoprotein Cholesterol",
          "Leukocytes [#/volume] in Blood by Automated count",
          "Low Density Lipoprotein Cholesterol",
          "MCH [Entitic mass] by Automated count",
          "MCHC [Mass/volume] by Automated count",
          "MCV [Entitic volume] by Automated count",
          "Microalbumin Creatinine Ratio",
          "Pain severity - 0-10 verbal numeric rating [Score] - Reported",
          "Platelet distribution width [Entitic volume] in Blood by Automated count",
          "Platelet mean volume [Entitic volume] in Blood by Automated count",
          "Platelets [#/volume] in Blood by Automated count",
          "Potassium",
          "Respiratory rate",
          "Sodium",
          "Systolic Blood Pressure",
          "Total Cholesterol",
          "Triglycerides",
          "Urea Nitrogen",
          "Weight-for-length Per age and sex"
         ]
        },
        {
         "customdata": [
          143,
          139,
          143,
          35,
          41,
          41,
          41,
          41,
          143,
          12,
          12,
          12,
          5,
          41,
          9,
          143,
          12,
          40,
          12,
          19,
          12,
          19,
          12,
          12,
          12,
          12,
          143,
          12,
          12,
          12,
          41,
          143,
          41,
          143,
          19,
          19,
          41,
          9
         ],
         "hovertemplate": " Value: %{x}<br>Count : %{customdata}",
         "name": "Viral sinusitis (disorder)",
         "orientation": "h",
         "type": "bar",
         "x": [
          158.6356643356644,
          26.1525179856115,
          69.12027972027974,
          61.27714285714285,
          9.436585365853658,
          24.007317073170725,
          105.94390243902438,
          0.990243902439024,
          80.51748251748252,
          41.45,
          4.733333333333333,
          114.41666666666667,
          42.839999999999996,
          88.0560975609756,
          47.400000000000006,
          79.52447552447552,
          42.041666666666664,
          5.985000000000001,
          14.358333333333334,
          64.59473684210526,
          6.491666666666667,
          93.1,
          29.13333333333333,
          34.525,
          87.14999999999999,
          26.016666666666666,
          1.902097902097902,
          373.42499999999995,
          10.933333333333332,
          296.07500000000005,
          4.497560975609755,
          13.916083916083917,
          140.58048780487806,
          122.14685314685315,
          185.26842105263154,
          137.9421052631579,
          13.47317073170732,
          71.3
         ],
         "y": [
          "Body Height",
          "Body Mass Index",
          "Body Weight",
          "Body mass index (BMI) [Percentile] Per age and gender",
          "Calcium",
          "Carbon Dioxide",
          "Chloride",
          "Creatinine",
          "Diastolic Blood Pressure",
          "Erythrocyte distribution width [Entitic volume] by Automated count",
          "Erythrocytes [#/volume] in Blood by Automated count",
          "Estimated Glomerular Filtration Rate",
          "FEV1/FVC",
          "Glucose",
          "Head Occipital-frontal circumference",
          "Heart rate",
          "Hematocrit [Volume Fraction] of Blood by Automated count",
          "Hemoglobin A1c/Hemoglobin.total in Blood",
          "Hemoglobin [Mass/volume] in Blood",
          "High Density Lipoprotein Cholesterol",
          "Leukocytes [#/volume] in Blood by Automated count",
          "Low Density Lipoprotein Cholesterol",
          "MCH [Entitic mass] by Automated count",
          "MCHC [Mass/volume] by Automated count",
          "MCV [Entitic volume] by Automated count",
          "Microalbumin Creatinine Ratio",
          "Pain severity - 0-10 verbal numeric rating [Score] - Reported",
          "Platelet distribution width [Entitic volume] in Blood by Automated count",
          "Platelet mean volume [Entitic volume] in Blood by Automated count",
          "Platelets [#/volume] in Blood by Automated count",
          "Potassium",
          "Respiratory rate",
          "Sodium",
          "Systolic Blood Pressure",
          "Total Cholesterol",
          "Triglycerides",
          "Urea Nitrogen",
          "Weight-for-length Per age and sex"
         ]
        }
       ],
       "layout": {
        "height": 1000,
        "legend": {
         "title": {
          "text": "Conditions"
         }
        },
        "template": {
         "data": {
          "bar": [
           {
            "error_x": {
             "color": "#2a3f5f"
            },
            "error_y": {
             "color": "#2a3f5f"
            },
            "marker": {
             "line": {
              "color": "#E5ECF6",
              "width": 0.5
             },
             "pattern": {
              "fillmode": "overlay",
              "size": 10,
              "solidity": 0.2
             }
            },
            "type": "bar"
           }
          ],
          "barpolar": [
           {
            "marker": {
             "line": {
              "color": "#E5ECF6",
              "width": 0.5
             },
             "pattern": {
              "fillmode": "overlay",
              "size": 10,
              "solidity": 0.2
             }
            },
            "type": "barpolar"
           }
          ],
          "carpet": [
           {
            "aaxis": {
             "endlinecolor": "#2a3f5f",
             "gridcolor": "white",
             "linecolor": "white",
             "minorgridcolor": "white",
             "startlinecolor": "#2a3f5f"
            },
            "baxis": {
             "endlinecolor": "#2a3f5f",
             "gridcolor": "white",
             "linecolor": "white",
             "minorgridcolor": "white",
             "startlinecolor": "#2a3f5f"
            },
            "type": "carpet"
           }
          ],
          "choropleth": [
           {
            "colorbar": {
             "outlinewidth": 0,
             "ticks": ""
            },
            "type": "choropleth"
           }
          ],
          "contour": [
           {
            "colorbar": {
             "outlinewidth": 0,
             "ticks": ""
            },
            "colorscale": [
             [
              0,
              "#0d0887"
             ],
             [
              0.1111111111111111,
              "#46039f"
             ],
             [
              0.2222222222222222,
              "#7201a8"
             ],
             [
              0.3333333333333333,
              "#9c179e"
             ],
             [
              0.4444444444444444,
              "#bd3786"
             ],
             [
              0.5555555555555556,
              "#d8576b"
             ],
             [
              0.6666666666666666,
              "#ed7953"
             ],
             [
              0.7777777777777778,
              "#fb9f3a"
             ],
             [
              0.8888888888888888,
              "#fdca26"
             ],
             [
              1,
              "#f0f921"
             ]
            ],
            "type": "contour"
           }
          ],
          "contourcarpet": [
           {
            "colorbar": {
             "outlinewidth": 0,
             "ticks": ""
            },
            "type": "contourcarpet"
           }
          ],
          "heatmap": [
           {
            "colorbar": {
             "outlinewidth": 0,
             "ticks": ""
            },
            "colorscale": [
             [
              0,
              "#0d0887"
             ],
             [
              0.1111111111111111,
              "#46039f"
             ],
             [
              0.2222222222222222,
              "#7201a8"
             ],
             [
              0.3333333333333333,
              "#9c179e"
             ],
             [
              0.4444444444444444,
              "#bd3786"
             ],
             [
              0.5555555555555556,
              "#d8576b"
             ],
             [
              0.6666666666666666,
              "#ed7953"
             ],
             [
              0.7777777777777778,
              "#fb9f3a"
             ],
             [
              0.8888888888888888,
              "#fdca26"
             ],
             [
              1,
              "#f0f921"
             ]
            ],
            "type": "heatmap"
           }
          ],
          "heatmapgl": [
           {
            "colorbar": {
             "outlinewidth": 0,
             "ticks": ""
            },
            "colorscale": [
             [
              0,
              "#0d0887"
             ],
             [
              0.1111111111111111,
              "#46039f"
             ],
             [
              0.2222222222222222,
              "#7201a8"
             ],
             [
              0.3333333333333333,
              "#9c179e"
             ],
             [
              0.4444444444444444,
              "#bd3786"
             ],
             [
              0.5555555555555556,
              "#d8576b"
             ],
             [
              0.6666666666666666,
              "#ed7953"
             ],
             [
              0.7777777777777778,
              "#fb9f3a"
             ],
             [
              0.8888888888888888,
              "#fdca26"
             ],
             [
              1,
              "#f0f921"
             ]
            ],
            "type": "heatmapgl"
           }
          ],
          "histogram": [
           {
            "marker": {
             "pattern": {
              "fillmode": "overlay",
              "size": 10,
              "solidity": 0.2
             }
            },
            "type": "histogram"
           }
          ],
          "histogram2d": [
           {
            "colorbar": {
             "outlinewidth": 0,
             "ticks": ""
            },
            "colorscale": [
             [
              0,
              "#0d0887"
             ],
             [
              0.1111111111111111,
              "#46039f"
             ],
             [
              0.2222222222222222,
              "#7201a8"
             ],
             [
              0.3333333333333333,
              "#9c179e"
             ],
             [
              0.4444444444444444,
              "#bd3786"
             ],
             [
              0.5555555555555556,
              "#d8576b"
             ],
             [
              0.6666666666666666,
              "#ed7953"
             ],
             [
              0.7777777777777778,
              "#fb9f3a"
             ],
             [
              0.8888888888888888,
              "#fdca26"
             ],
             [
              1,
              "#f0f921"
             ]
            ],
            "type": "histogram2d"
           }
          ],
          "histogram2dcontour": [
           {
            "colorbar": {
             "outlinewidth": 0,
             "ticks": ""
            },
            "colorscale": [
             [
              0,
              "#0d0887"
             ],
             [
              0.1111111111111111,
              "#46039f"
             ],
             [
              0.2222222222222222,
              "#7201a8"
             ],
             [
              0.3333333333333333,
              "#9c179e"
             ],
             [
              0.4444444444444444,
              "#bd3786"
             ],
             [
              0.5555555555555556,
              "#d8576b"
             ],
             [
              0.6666666666666666,
              "#ed7953"
             ],
             [
              0.7777777777777778,
              "#fb9f3a"
             ],
             [
              0.8888888888888888,
              "#fdca26"
             ],
             [
              1,
              "#f0f921"
             ]
            ],
            "type": "histogram2dcontour"
           }
          ],
          "mesh3d": [
           {
            "colorbar": {
             "outlinewidth": 0,
             "ticks": ""
            },
            "type": "mesh3d"
           }
          ],
          "parcoords": [
           {
            "line": {
             "colorbar": {
              "outlinewidth": 0,
              "ticks": ""
             }
            },
            "type": "parcoords"
           }
          ],
          "pie": [
           {
            "automargin": true,
            "type": "pie"
           }
          ],
          "scatter": [
           {
            "fillpattern": {
             "fillmode": "overlay",
             "size": 10,
             "solidity": 0.2
            },
            "type": "scatter"
           }
          ],
          "scatter3d": [
           {
            "line": {
             "colorbar": {
              "outlinewidth": 0,
              "ticks": ""
             }
            },
            "marker": {
             "colorbar": {
              "outlinewidth": 0,
              "ticks": ""
             }
            },
            "type": "scatter3d"
           }
          ],
          "scattercarpet": [
           {
            "marker": {
             "colorbar": {
              "outlinewidth": 0,
              "ticks": ""
             }
            },
            "type": "scattercarpet"
           }
          ],
          "scattergeo": [
           {
            "marker": {
             "colorbar": {
              "outlinewidth": 0,
              "ticks": ""
             }
            },
            "type": "scattergeo"
           }
          ],
          "scattergl": [
           {
            "marker": {
             "colorbar": {
              "outlinewidth": 0,
              "ticks": ""
             }
            },
            "type": "scattergl"
           }
          ],
          "scattermapbox": [
           {
            "marker": {
             "colorbar": {
              "outlinewidth": 0,
              "ticks": ""
             }
            },
            "type": "scattermapbox"
           }
          ],
          "scatterpolar": [
           {
            "marker": {
             "colorbar": {
              "outlinewidth": 0,
              "ticks": ""
             }
            },
            "type": "scatterpolar"
           }
          ],
          "scatterpolargl": [
           {
            "marker": {
             "colorbar": {
              "outlinewidth": 0,
              "ticks": ""
             }
            },
            "type": "scatterpolargl"
           }
          ],
          "scatterternary": [
           {
            "marker": {
             "colorbar": {
              "outlinewidth": 0,
              "ticks": ""
             }
            },
            "type": "scatterternary"
           }
          ],
          "surface": [
           {
            "colorbar": {
             "outlinewidth": 0,
             "ticks": ""
            },
            "colorscale": [
             [
              0,
              "#0d0887"
             ],
             [
              0.1111111111111111,
              "#46039f"
             ],
             [
              0.2222222222222222,
              "#7201a8"
             ],
             [
              0.3333333333333333,
              "#9c179e"
             ],
             [
              0.4444444444444444,
              "#bd3786"
             ],
             [
              0.5555555555555556,
              "#d8576b"
             ],
             [
              0.6666666666666666,
              "#ed7953"
             ],
             [
              0.7777777777777778,
              "#fb9f3a"
             ],
             [
              0.8888888888888888,
              "#fdca26"
             ],
             [
              1,
              "#f0f921"
             ]
            ],
            "type": "surface"
           }
          ],
          "table": [
           {
            "cells": {
             "fill": {
              "color": "#EBF0F8"
             },
             "line": {
              "color": "white"
             }
            },
            "header": {
             "fill": {
              "color": "#C8D4E3"
             },
             "line": {
              "color": "white"
             }
            },
            "type": "table"
           }
          ]
         },
         "layout": {
          "annotationdefaults": {
           "arrowcolor": "#2a3f5f",
           "arrowhead": 0,
           "arrowwidth": 1
          },
          "autotypenumbers": "strict",
          "coloraxis": {
           "colorbar": {
            "outlinewidth": 0,
            "ticks": ""
           }
          },
          "colorscale": {
           "diverging": [
            [
             0,
             "#8e0152"
            ],
            [
             0.1,
             "#c51b7d"
            ],
            [
             0.2,
             "#de77ae"
            ],
            [
             0.3,
             "#f1b6da"
            ],
            [
             0.4,
             "#fde0ef"
            ],
            [
             0.5,
             "#f7f7f7"
            ],
            [
             0.6,
             "#e6f5d0"
            ],
            [
             0.7,
             "#b8e186"
            ],
            [
             0.8,
             "#7fbc41"
            ],
            [
             0.9,
             "#4d9221"
            ],
            [
             1,
             "#276419"
            ]
           ],
           "sequential": [
            [
             0,
             "#0d0887"
            ],
            [
             0.1111111111111111,
             "#46039f"
            ],
            [
             0.2222222222222222,
             "#7201a8"
            ],
            [
             0.3333333333333333,
             "#9c179e"
            ],
            [
             0.4444444444444444,
             "#bd3786"
            ],
            [
             0.5555555555555556,
             "#d8576b"
            ],
            [
             0.6666666666666666,
             "#ed7953"
            ],
            [
             0.7777777777777778,
             "#fb9f3a"
            ],
            [
             0.8888888888888888,
             "#fdca26"
            ],
            [
             1,
             "#f0f921"
            ]
           ],
           "sequentialminus": [
            [
             0,
             "#0d0887"
            ],
            [
             0.1111111111111111,
             "#46039f"
            ],
            [
             0.2222222222222222,
             "#7201a8"
            ],
            [
             0.3333333333333333,
             "#9c179e"
            ],
            [
             0.4444444444444444,
             "#bd3786"
            ],
            [
             0.5555555555555556,
             "#d8576b"
            ],
            [
             0.6666666666666666,
             "#ed7953"
            ],
            [
             0.7777777777777778,
             "#fb9f3a"
            ],
            [
             0.8888888888888888,
             "#fdca26"
            ],
            [
             1,
             "#f0f921"
            ]
           ]
          },
          "colorway": [
           "#636efa",
           "#EF553B",
           "#00cc96",
           "#ab63fa",
           "#FFA15A",
           "#19d3f3",
           "#FF6692",
           "#B6E880",
           "#FF97FF",
           "#FECB52"
          ],
          "font": {
           "color": "#2a3f5f"
          },
          "geo": {
           "bgcolor": "white",
           "lakecolor": "white",
           "landcolor": "#E5ECF6",
           "showlakes": true,
           "showland": true,
           "subunitcolor": "white"
          },
          "hoverlabel": {
           "align": "left"
          },
          "hovermode": "closest",
          "mapbox": {
           "style": "light"
          },
          "paper_bgcolor": "white",
          "plot_bgcolor": "#E5ECF6",
          "polar": {
           "angularaxis": {
            "gridcolor": "white",
            "linecolor": "white",
            "ticks": ""
           },
           "bgcolor": "#E5ECF6",
           "radialaxis": {
            "gridcolor": "white",
            "linecolor": "white",
            "ticks": ""
           }
          },
          "scene": {
           "xaxis": {
            "backgroundcolor": "#E5ECF6",
            "gridcolor": "white",
            "gridwidth": 2,
            "linecolor": "white",
            "showbackground": true,
            "ticks": "",
            "zerolinecolor": "white"
           },
           "yaxis": {
            "backgroundcolor": "#E5ECF6",
            "gridcolor": "white",
            "gridwidth": 2,
            "linecolor": "white",
            "showbackground": true,
            "ticks": "",
            "zerolinecolor": "white"
           },
           "zaxis": {
            "backgroundcolor": "#E5ECF6",
            "gridcolor": "white",
            "gridwidth": 2,
            "linecolor": "white",
            "showbackground": true,
            "ticks": "",
            "zerolinecolor": "white"
           }
          },
          "shapedefaults": {
           "line": {
            "color": "#2a3f5f"
           }
          },
          "ternary": {
           "aaxis": {
            "gridcolor": "white",
            "linecolor": "white",
            "ticks": ""
           },
           "baxis": {
            "gridcolor": "white",
            "linecolor": "white",
            "ticks": ""
           },
           "bgcolor": "#E5ECF6",
           "caxis": {
            "gridcolor": "white",
            "linecolor": "white",
            "ticks": ""
           }
          },
          "title": {
           "x": 0.05
          },
          "xaxis": {
           "automargin": true,
           "gridcolor": "white",
           "linecolor": "white",
           "ticks": "",
           "title": {
            "standoff": 15
           },
           "zerolinecolor": "white",
           "zerolinewidth": 2
          },
          "yaxis": {
           "automargin": true,
           "gridcolor": "white",
           "linecolor": "white",
           "ticks": "",
           "title": {
            "standoff": 15
           },
           "zerolinecolor": "white",
           "zerolinewidth": 2
          }
         }
        },
        "title": {
         "text": "Some observations of common conditions"
        },
        "width": 1200,
        "xaxis": {
         "title": {
          "text": "Average value"
         }
        },
        "yaxis": {
         "title": {
          "text": "Observations"
         }
        }
       }
      },
      "text/html": [
       "<div>                            <div id=\"2f80ea24-8324-4f39-be32-796824f3b905\" class=\"plotly-graph-div\" style=\"height:1000px; width:1200px;\"></div>            <script type=\"text/javascript\">                require([\"plotly\"], function(Plotly) {                    window.PLOTLYENV=window.PLOTLYENV || {};                                    if (document.getElementById(\"2f80ea24-8324-4f39-be32-796824f3b905\")) {                    Plotly.newPlot(                        \"2f80ea24-8324-4f39-be32-796824f3b905\",                        [{\"customdata\":[62,61,62,22,13,13,13,13,62,7,7,4,13,3,62,7,13,7,8,1,7,8,7,7,7,4,62,7,7,7,13,62,13,62,8,8,13,3],\"hovertemplate\":\" Value: %{x}<br>Count : %{customdata}\",\"name\":\"Acute bronchitis (disorder)\",\"orientation\":\"h\",\"x\":[156.96935483870968,24.94426229508197,65.64999999999999,56.090909090909115,9.153846153846153,24.407692307692304,107.04615384615386,1.3923076923076925,80.06451612903226,42.971428571428575,4.314285714285715,31.325,89.68461538461537,44.73333333333333,80.24193548387096,40.9,5.361538461538462,14.700000000000001,62.925000000000004,1.9,6.785714285714285,101.525,30.342857142857145,34.371428571428574,88.37142857142855,81.52499999999999,2.338709677419355,372.4428571428571,10.828571428571431,290.88571428571424,4.446153846153846,14.241935483870968,139.40769230769234,118.87096774193549,193.9,147.3125,12.86153846153846,35.166666666666664],\"y\":[\"Body Height\",\"Body Mass Index\",\"Body Weight\",\"Body mass index (BMI) [Percentile] Per age and gender\",\"Calcium\",\"Carbon Dioxide\",\"Chloride\",\"Creatinine\",\"Diastolic Blood Pressure\",\"Erythrocyte distribution width [Entitic volume] by Automated count\",\"Erythrocytes [#/volume] in Blood by Automated count\",\"Estimated Glomerular Filtration Rate\",\"Glucose\",\"Head Occipital-frontal circumference\",\"Heart rate\",\"Hematocrit [Volume Fraction] of Blood by Automated count\",\"Hemoglobin A1c/Hemoglobin.total in Blood\",\"Hemoglobin [Mass/volume] in Blood\",\"High Density Lipoprotein Cholesterol\",\"History of Hospitalizations+Outpatient visits\",\"Leukocytes [#/volume] in Blood by Automated count\",\"Low Density Lipoprotein Cholesterol\",\"MCH [Entitic mass] by Automated count\",\"MCHC [Mass/volume] by Automated count\",\"MCV [Entitic volume] by Automated count\",\"Microalbumin Creatinine Ratio\",\"Pain severity - 0-10 verbal numeric rating [Score] - Reported\",\"Platelet distribution width [Entitic volume] in Blood by Automated count\",\"Platelet mean volume [Entitic volume] in Blood by Automated count\",\"Platelets [#/volume] in Blood by Automated count\",\"Potassium\",\"Respiratory rate\",\"Sodium\",\"Systolic Blood Pressure\",\"Total Cholesterol\",\"Triglycerides\",\"Urea Nitrogen\",\"Weight-for-length Per age and sex\"],\"type\":\"bar\"},{\"customdata\":[38,35,38,9,645,7,7,7,7,38,2,2,3,7,4,38,2,7,2,6,2,6,2,2,2,3,38,2,2,2,7,38,7,38,6,6,7,4],\"hovertemplate\":\" Value: %{x}<br>Count : %{customdata}\",\"name\":\"Acute viral pharyngitis (disorder)\",\"orientation\":\"h\",\"x\":[157.0368421052632,26.63714285714285,68.40526315789472,77.44444444444443,37.484341085271346,9.285714285714286,23.071428571428573,107.81428571428572,1.5999999999999999,79.97368421052632,40.8,5.15,49.36666666666667,89.1857142857143,44.800000000000004,77.94736842105263,44.1,5.428571428571429,14.9,65.28333333333333,10.0,94.33333333333333,30.5,35.3,83.0,102.16666666666667,1.8421052631578947,478.35,10.95,231.0,4.785714285714286,14.026315789473685,139.5285714285714,118.28947368421052,187.58333333333334,139.78333333333333,13.414285714285715,42.025],\"y\":[\"Body Height\",\"Body Mass Index\",\"Body Weight\",\"Body mass index (BMI) [Percentile] Per age and gender\",\"Body temperature\",\"Calcium\",\"Carbon Dioxide\",\"Chloride\",\"Creatinine\",\"Diastolic Blood Pressure\",\"Erythrocyte distribution width [Entitic volume] by Automated count\",\"Erythrocytes [#/volume] in Blood by Automated count\",\"Estimated Glomerular Filtration Rate\",\"Glucose\",\"Head Occipital-frontal circumference\",\"Heart rate\",\"Hematocrit [Volume Fraction] of Blood by Automated count\",\"Hemoglobin A1c/Hemoglobin.total in Blood\",\"Hemoglobin [Mass/volume] in Blood\",\"High Density Lipoprotein Cholesterol\",\"Leukocytes [#/volume] in Blood by Automated count\",\"Low Density Lipoprotein Cholesterol\",\"MCH [Entitic mass] by Automated count\",\"MCHC [Mass/volume] by Automated count\",\"MCV [Entitic volume] by Automated count\",\"Microalbumin Creatinine Ratio\",\"Pain severity - 0-10 verbal numeric rating [Score] - Reported\",\"Platelet distribution width [Entitic volume] in Blood by Automated count\",\"Platelet mean volume [Entitic volume] in Blood by Automated count\",\"Platelets [#/volume] in Blood by Automated count\",\"Potassium\",\"Respiratory rate\",\"Sodium\",\"Systolic Blood Pressure\",\"Total Cholesterol\",\"Triglycerides\",\"Urea Nitrogen\",\"Weight-for-length Per age and sex\"],\"type\":\"bar\"},{\"customdata\":[143,139,143,35,41,41,41,41,143,12,12,12,5,41,9,143,12,40,12,19,12,19,12,12,12,12,143,12,12,12,41,143,41,143,19,19,41,9],\"hovertemplate\":\" Value: %{x}<br>Count : %{customdata}\",\"name\":\"Viral sinusitis (disorder)\",\"orientation\":\"h\",\"x\":[158.6356643356644,26.1525179856115,69.12027972027974,61.27714285714285,9.436585365853658,24.007317073170725,105.94390243902438,0.990243902439024,80.51748251748252,41.45,4.733333333333333,114.41666666666667,42.839999999999996,88.0560975609756,47.400000000000006,79.52447552447552,42.041666666666664,5.985000000000001,14.358333333333334,64.59473684210526,6.491666666666667,93.1,29.13333333333333,34.525,87.14999999999999,26.016666666666666,1.902097902097902,373.42499999999995,10.933333333333332,296.07500000000005,4.497560975609755,13.916083916083917,140.58048780487806,122.14685314685315,185.26842105263154,137.9421052631579,13.47317073170732,71.3],\"y\":[\"Body Height\",\"Body Mass Index\",\"Body Weight\",\"Body mass index (BMI) [Percentile] Per age and gender\",\"Calcium\",\"Carbon Dioxide\",\"Chloride\",\"Creatinine\",\"Diastolic Blood Pressure\",\"Erythrocyte distribution width [Entitic volume] by Automated count\",\"Erythrocytes [#/volume] in Blood by Automated count\",\"Estimated Glomerular Filtration Rate\",\"FEV1/FVC\",\"Glucose\",\"Head Occipital-frontal circumference\",\"Heart rate\",\"Hematocrit [Volume Fraction] of Blood by Automated count\",\"Hemoglobin A1c/Hemoglobin.total in Blood\",\"Hemoglobin [Mass/volume] in Blood\",\"High Density Lipoprotein Cholesterol\",\"Leukocytes [#/volume] in Blood by Automated count\",\"Low Density Lipoprotein Cholesterol\",\"MCH [Entitic mass] by Automated count\",\"MCHC [Mass/volume] by Automated count\",\"MCV [Entitic volume] by Automated count\",\"Microalbumin Creatinine Ratio\",\"Pain severity - 0-10 verbal numeric rating [Score] - Reported\",\"Platelet distribution width [Entitic volume] in Blood by Automated count\",\"Platelet mean volume [Entitic volume] in Blood by Automated count\",\"Platelets [#/volume] in Blood by Automated count\",\"Potassium\",\"Respiratory rate\",\"Sodium\",\"Systolic Blood Pressure\",\"Total Cholesterol\",\"Triglycerides\",\"Urea Nitrogen\",\"Weight-for-length Per age and sex\"],\"type\":\"bar\"}],                        {\"template\":{\"data\":{\"histogram2dcontour\":[{\"type\":\"histogram2dcontour\",\"colorbar\":{\"outlinewidth\":0,\"ticks\":\"\"},\"colorscale\":[[0.0,\"#0d0887\"],[0.1111111111111111,\"#46039f\"],[0.2222222222222222,\"#7201a8\"],[0.3333333333333333,\"#9c179e\"],[0.4444444444444444,\"#bd3786\"],[0.5555555555555556,\"#d8576b\"],[0.6666666666666666,\"#ed7953\"],[0.7777777777777778,\"#fb9f3a\"],[0.8888888888888888,\"#fdca26\"],[1.0,\"#f0f921\"]]}],\"choropleth\":[{\"type\":\"choropleth\",\"colorbar\":{\"outlinewidth\":0,\"ticks\":\"\"}}],\"histogram2d\":[{\"type\":\"histogram2d\",\"colorbar\":{\"outlinewidth\":0,\"ticks\":\"\"},\"colorscale\":[[0.0,\"#0d0887\"],[0.1111111111111111,\"#46039f\"],[0.2222222222222222,\"#7201a8\"],[0.3333333333333333,\"#9c179e\"],[0.4444444444444444,\"#bd3786\"],[0.5555555555555556,\"#d8576b\"],[0.6666666666666666,\"#ed7953\"],[0.7777777777777778,\"#fb9f3a\"],[0.8888888888888888,\"#fdca26\"],[1.0,\"#f0f921\"]]}],\"heatmap\":[{\"type\":\"heatmap\",\"colorbar\":{\"outlinewidth\":0,\"ticks\":\"\"},\"colorscale\":[[0.0,\"#0d0887\"],[0.1111111111111111,\"#46039f\"],[0.2222222222222222,\"#7201a8\"],[0.3333333333333333,\"#9c179e\"],[0.4444444444444444,\"#bd3786\"],[0.5555555555555556,\"#d8576b\"],[0.6666666666666666,\"#ed7953\"],[0.7777777777777778,\"#fb9f3a\"],[0.8888888888888888,\"#fdca26\"],[1.0,\"#f0f921\"]]}],\"heatmapgl\":[{\"type\":\"heatmapgl\",\"colorbar\":{\"outlinewidth\":0,\"ticks\":\"\"},\"colorscale\":[[0.0,\"#0d0887\"],[0.1111111111111111,\"#46039f\"],[0.2222222222222222,\"#7201a8\"],[0.3333333333333333,\"#9c179e\"],[0.4444444444444444,\"#bd3786\"],[0.5555555555555556,\"#d8576b\"],[0.6666666666666666,\"#ed7953\"],[0.7777777777777778,\"#fb9f3a\"],[0.8888888888888888,\"#fdca26\"],[1.0,\"#f0f921\"]]}],\"contourcarpet\":[{\"type\":\"contourcarpet\",\"colorbar\":{\"outlinewidth\":0,\"ticks\":\"\"}}],\"contour\":[{\"type\":\"contour\",\"colorbar\":{\"outlinewidth\":0,\"ticks\":\"\"},\"colorscale\":[[0.0,\"#0d0887\"],[0.1111111111111111,\"#46039f\"],[0.2222222222222222,\"#7201a8\"],[0.3333333333333333,\"#9c179e\"],[0.4444444444444444,\"#bd3786\"],[0.5555555555555556,\"#d8576b\"],[0.6666666666666666,\"#ed7953\"],[0.7777777777777778,\"#fb9f3a\"],[0.8888888888888888,\"#fdca26\"],[1.0,\"#f0f921\"]]}],\"surface\":[{\"type\":\"surface\",\"colorbar\":{\"outlinewidth\":0,\"ticks\":\"\"},\"colorscale\":[[0.0,\"#0d0887\"],[0.1111111111111111,\"#46039f\"],[0.2222222222222222,\"#7201a8\"],[0.3333333333333333,\"#9c179e\"],[0.4444444444444444,\"#bd3786\"],[0.5555555555555556,\"#d8576b\"],[0.6666666666666666,\"#ed7953\"],[0.7777777777777778,\"#fb9f3a\"],[0.8888888888888888,\"#fdca26\"],[1.0,\"#f0f921\"]]}],\"mesh3d\":[{\"type\":\"mesh3d\",\"colorbar\":{\"outlinewidth\":0,\"ticks\":\"\"}}],\"scatter\":[{\"fillpattern\":{\"fillmode\":\"overlay\",\"size\":10,\"solidity\":0.2},\"type\":\"scatter\"}],\"parcoords\":[{\"type\":\"parcoords\",\"line\":{\"colorbar\":{\"outlinewidth\":0,\"ticks\":\"\"}}}],\"scatterpolargl\":[{\"type\":\"scatterpolargl\",\"marker\":{\"colorbar\":{\"outlinewidth\":0,\"ticks\":\"\"}}}],\"bar\":[{\"error_x\":{\"color\":\"#2a3f5f\"},\"error_y\":{\"color\":\"#2a3f5f\"},\"marker\":{\"line\":{\"color\":\"#E5ECF6\",\"width\":0.5},\"pattern\":{\"fillmode\":\"overlay\",\"size\":10,\"solidity\":0.2}},\"type\":\"bar\"}],\"scattergeo\":[{\"type\":\"scattergeo\",\"marker\":{\"colorbar\":{\"outlinewidth\":0,\"ticks\":\"\"}}}],\"scatterpolar\":[{\"type\":\"scatterpolar\",\"marker\":{\"colorbar\":{\"outlinewidth\":0,\"ticks\":\"\"}}}],\"histogram\":[{\"marker\":{\"pattern\":{\"fillmode\":\"overlay\",\"size\":10,\"solidity\":0.2}},\"type\":\"histogram\"}],\"scattergl\":[{\"type\":\"scattergl\",\"marker\":{\"colorbar\":{\"outlinewidth\":0,\"ticks\":\"\"}}}],\"scatter3d\":[{\"type\":\"scatter3d\",\"line\":{\"colorbar\":{\"outlinewidth\":0,\"ticks\":\"\"}},\"marker\":{\"colorbar\":{\"outlinewidth\":0,\"ticks\":\"\"}}}],\"scattermapbox\":[{\"type\":\"scattermapbox\",\"marker\":{\"colorbar\":{\"outlinewidth\":0,\"ticks\":\"\"}}}],\"scatterternary\":[{\"type\":\"scatterternary\",\"marker\":{\"colorbar\":{\"outlinewidth\":0,\"ticks\":\"\"}}}],\"scattercarpet\":[{\"type\":\"scattercarpet\",\"marker\":{\"colorbar\":{\"outlinewidth\":0,\"ticks\":\"\"}}}],\"carpet\":[{\"aaxis\":{\"endlinecolor\":\"#2a3f5f\",\"gridcolor\":\"white\",\"linecolor\":\"white\",\"minorgridcolor\":\"white\",\"startlinecolor\":\"#2a3f5f\"},\"baxis\":{\"endlinecolor\":\"#2a3f5f\",\"gridcolor\":\"white\",\"linecolor\":\"white\",\"minorgridcolor\":\"white\",\"startlinecolor\":\"#2a3f5f\"},\"type\":\"carpet\"}],\"table\":[{\"cells\":{\"fill\":{\"color\":\"#EBF0F8\"},\"line\":{\"color\":\"white\"}},\"header\":{\"fill\":{\"color\":\"#C8D4E3\"},\"line\":{\"color\":\"white\"}},\"type\":\"table\"}],\"barpolar\":[{\"marker\":{\"line\":{\"color\":\"#E5ECF6\",\"width\":0.5},\"pattern\":{\"fillmode\":\"overlay\",\"size\":10,\"solidity\":0.2}},\"type\":\"barpolar\"}],\"pie\":[{\"automargin\":true,\"type\":\"pie\"}]},\"layout\":{\"autotypenumbers\":\"strict\",\"colorway\":[\"#636efa\",\"#EF553B\",\"#00cc96\",\"#ab63fa\",\"#FFA15A\",\"#19d3f3\",\"#FF6692\",\"#B6E880\",\"#FF97FF\",\"#FECB52\"],\"font\":{\"color\":\"#2a3f5f\"},\"hovermode\":\"closest\",\"hoverlabel\":{\"align\":\"left\"},\"paper_bgcolor\":\"white\",\"plot_bgcolor\":\"#E5ECF6\",\"polar\":{\"bgcolor\":\"#E5ECF6\",\"angularaxis\":{\"gridcolor\":\"white\",\"linecolor\":\"white\",\"ticks\":\"\"},\"radialaxis\":{\"gridcolor\":\"white\",\"linecolor\":\"white\",\"ticks\":\"\"}},\"ternary\":{\"bgcolor\":\"#E5ECF6\",\"aaxis\":{\"gridcolor\":\"white\",\"linecolor\":\"white\",\"ticks\":\"\"},\"baxis\":{\"gridcolor\":\"white\",\"linecolor\":\"white\",\"ticks\":\"\"},\"caxis\":{\"gridcolor\":\"white\",\"linecolor\":\"white\",\"ticks\":\"\"}},\"coloraxis\":{\"colorbar\":{\"outlinewidth\":0,\"ticks\":\"\"}},\"colorscale\":{\"sequential\":[[0.0,\"#0d0887\"],[0.1111111111111111,\"#46039f\"],[0.2222222222222222,\"#7201a8\"],[0.3333333333333333,\"#9c179e\"],[0.4444444444444444,\"#bd3786\"],[0.5555555555555556,\"#d8576b\"],[0.6666666666666666,\"#ed7953\"],[0.7777777777777778,\"#fb9f3a\"],[0.8888888888888888,\"#fdca26\"],[1.0,\"#f0f921\"]],\"sequentialminus\":[[0.0,\"#0d0887\"],[0.1111111111111111,\"#46039f\"],[0.2222222222222222,\"#7201a8\"],[0.3333333333333333,\"#9c179e\"],[0.4444444444444444,\"#bd3786\"],[0.5555555555555556,\"#d8576b\"],[0.6666666666666666,\"#ed7953\"],[0.7777777777777778,\"#fb9f3a\"],[0.8888888888888888,\"#fdca26\"],[1.0,\"#f0f921\"]],\"diverging\":[[0,\"#8e0152\"],[0.1,\"#c51b7d\"],[0.2,\"#de77ae\"],[0.3,\"#f1b6da\"],[0.4,\"#fde0ef\"],[0.5,\"#f7f7f7\"],[0.6,\"#e6f5d0\"],[0.7,\"#b8e186\"],[0.8,\"#7fbc41\"],[0.9,\"#4d9221\"],[1,\"#276419\"]]},\"xaxis\":{\"gridcolor\":\"white\",\"linecolor\":\"white\",\"ticks\":\"\",\"title\":{\"standoff\":15},\"zerolinecolor\":\"white\",\"automargin\":true,\"zerolinewidth\":2},\"yaxis\":{\"gridcolor\":\"white\",\"linecolor\":\"white\",\"ticks\":\"\",\"title\":{\"standoff\":15},\"zerolinecolor\":\"white\",\"automargin\":true,\"zerolinewidth\":2},\"scene\":{\"xaxis\":{\"backgroundcolor\":\"#E5ECF6\",\"gridcolor\":\"white\",\"linecolor\":\"white\",\"showbackground\":true,\"ticks\":\"\",\"zerolinecolor\":\"white\",\"gridwidth\":2},\"yaxis\":{\"backgroundcolor\":\"#E5ECF6\",\"gridcolor\":\"white\",\"linecolor\":\"white\",\"showbackground\":true,\"ticks\":\"\",\"zerolinecolor\":\"white\",\"gridwidth\":2},\"zaxis\":{\"backgroundcolor\":\"#E5ECF6\",\"gridcolor\":\"white\",\"linecolor\":\"white\",\"showbackground\":true,\"ticks\":\"\",\"zerolinecolor\":\"white\",\"gridwidth\":2}},\"shapedefaults\":{\"line\":{\"color\":\"#2a3f5f\"}},\"annotationdefaults\":{\"arrowcolor\":\"#2a3f5f\",\"arrowhead\":0,\"arrowwidth\":1},\"geo\":{\"bgcolor\":\"white\",\"landcolor\":\"#E5ECF6\",\"subunitcolor\":\"white\",\"showland\":true,\"showlakes\":true,\"lakecolor\":\"white\"},\"title\":{\"x\":0.05},\"mapbox\":{\"style\":\"light\"}}},\"title\":{\"text\":\"Some observations of common conditions\"},\"xaxis\":{\"title\":{\"text\":\"Average value\"}},\"yaxis\":{\"title\":{\"text\":\"Observations\"}},\"height\":1000,\"width\":1200,\"legend\":{\"title\":{\"text\":\"Conditions\"}}},                        {\"responsive\": true}                    ).then(function(){\n",
       "                            \n",
       "var gd = document.getElementById('2f80ea24-8324-4f39-be32-796824f3b905');\n",
       "var x = new MutationObserver(function (mutations, observer) {{\n",
       "        var display = window.getComputedStyle(gd).display;\n",
       "        if (!display || display === 'none') {{\n",
       "            console.log([gd, 'removed!']);\n",
       "            Plotly.purge(gd);\n",
       "            observer.disconnect();\n",
       "        }}\n",
       "}});\n",
       "\n",
       "// Listen for the removal of the full notebook cells\n",
       "var notebookContainer = gd.closest('#notebook-container');\n",
       "if (notebookContainer) {{\n",
       "    x.observe(notebookContainer, {childList: true});\n",
       "}}\n",
       "\n",
       "// Listen for the clearing of the current output cell\n",
       "var outputEl = gd.closest('.output');\n",
       "if (outputEl) {{\n",
       "    x.observe(outputEl, {childList: true});\n",
       "}}\n",
       "\n",
       "                        })                };                });            </script>        </div>"
      ]
     },
     "metadata": {},
     "output_type": "display_data"
    }
   ],
   "source": [
    "fig = go.Figure()\n",
    "\n",
    "for condition in list(conditions_agg['DESCRIPTION']):\n",
    "    df = conditions_observations_agg[\n",
    "        conditions_observations_agg['DESCRIPTION_condition'] == condition]\n",
    "    fig.add_trace(go.Bar(\n",
    "        name=condition,\n",
    "        orientation='h',\n",
    "        y=df[\"DESCRIPTION_observation\"],\n",
    "        x=df[\"value_avg\"], \n",
    "        customdata=df['observations_count'],\n",
    "        hovertemplate=\" Value: %{x}\" \"<br>Count : %{customdata}\"\n",
    "        )\n",
    "    )\n",
    "fig.update_layout(\n",
    "    title_text=\"Some observations of common conditions\", # title of plot\n",
    "    height= 1000,\n",
    "    width=1200,\n",
    "    xaxis_title_text=\"Average value\", # xaxis label\n",
    "    yaxis_title_text=\"Observations\", # yaxis label\n",
    "    legend_title=\"Conditions\"\n",
    ")\n",
    "\n",
    "\n",
    "fig.show()"
   ]
  },
  {
   "cell_type": "markdown",
   "id": "78b1ac9d",
   "metadata": {},
   "source": [
    "Machine leanring questions about the dataset\n",
    "\n",
    "1- How can the data about patients be used to predict potential diseases they might have? (e.g. from observations and imaging_studies datasets, what're the probabilities for having a set of conditions)\n",
    "\n",
    "2- How can the most effective treatment be picked for a patient with a certain set of conditions?\n",
    "\n",
    "3- What's the probability for a condition to reoccur for a certain patient?"
   ]
  }
 ],
 "metadata": {
  "jupytext": {
   "cell_metadata_filter": "-all",
   "formats": "ipynb,py:percent",
   "notebook_metadata_filter": "-all"
  },
  "kernelspec": {
   "display_name": "Python 3 (ipykernel)",
   "language": "python",
   "name": "python3"
  },
  "language_info": {
   "codemirror_mode": {
    "name": "ipython",
    "version": 3
   },
   "file_extension": ".py",
   "mimetype": "text/x-python",
   "name": "python",
   "nbconvert_exporter": "python",
   "pygments_lexer": "ipython3",
   "version": "3.10.10"
  }
 },
 "nbformat": 4,
 "nbformat_minor": 5
}
